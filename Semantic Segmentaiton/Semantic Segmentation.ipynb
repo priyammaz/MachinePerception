{
  "cells": [
    {
      "cell_type": "markdown",
      "metadata": {
        "id": "5wFX7JatgCPA"
      },
      "source": [
        "#MP4\n",
        "\n",
        "In this assignment you will be performing Semantic Segmentation. We've provided the dataset and some helper code to guide you along.\n",
        "\n",
        "Reminders:\n",
        "- When first getting your code to run do not use GPU as this will exhaust your colab resources\n",
        "- When you're ready to properly test your models, make sure you are connected to a GPU runtime as this does significantly speeds up execution\n",
        "    - To change your runtime do: **Runtime** --> **Change runtime type** --> under **Hardware accelerator** select **GPU**\n",
        "    - Note that changing runtime resets your kernel (meaning you will need to rerun cells and local variables will be lost)\n",
        "    - It also sets this new runtime as the default when you return to this notebook later\n",
        "- Do not start last minute, these models do take some time to train\n",
        "- Loading the data takes some time, you should only have to do this once"
      ]
    },
    {
      "cell_type": "markdown",
      "metadata": {
        "id": "9eIFcdyhhD1w"
      },
      "source": [
        "## Accessing the data\n",
        "\n",
        "There are multiple ways to work with data in colab.\n",
        "See this [Colab notebook](https://colab.research.google.com/notebooks/io.ipynb) or this [StackOverflow post](https://stackoverflow.com/questions/48376580/google-colab-how-to-read-data-from-my-google-drive) for more details.\n",
        "\n",
        "Once you've mounted your drive you can see your entire drive file structure by clicking the \"Files\" tab on the left.\n",
        "\n",
        "**If you wish to work locally you can ignore the first two cells, but you will still need to set the appropriate path for your dataset**"
      ]
    },
    {
      "cell_type": "code",
      "execution_count": null,
      "metadata": {
        "colab": {
          "background_save": true
        },
        "id": "UzpXeiVddIdi"
      },
      "outputs": [],
      "source": [
        "import glob\n",
        "import os\n",
        "import numpy as np\n",
        "import seaborn as sns\n",
        "from tqdm.notebook import tqdm\n",
        "import matplotlib\n",
        "%matplotlib inline\n",
        "import matplotlib.pyplot as plt\n",
        "from sklearn.metrics import confusion_matrix, average_precision_score\n",
        "import random\n",
        "\n",
        "from PIL import Image\n",
        "import torch\n",
        "from torch import nn\n",
        "from torch.utils import data\n",
        "import torchvision\n",
        "from torchvision import models\n",
        "from torchvision.transforms import ToTensor\n",
        "import torchvision.transforms as transforms\n",
        "import torchvision.transforms.functional as TF\n",
        "import torch.nn.functional as F\n",
        "import torch.optim as optim\n",
        "\n",
        "DATASET_PATH = '/mnt/sdc2/data/CS498_Data/sbd/'"
      ]
    },
    {
      "cell_type": "markdown",
      "metadata": {
        "id": "jEJOJqm5W-KT"
      },
      "source": [
        "## Dataset (Q1)\n",
        "\n",
        "Here we define a class (pytorch Dataset) for accessing data. This allows us to perform transformations on the data (data augmentation) as we access it. Pytorch dataloaders take in a dataset and conventiently deal with the overhead of looping through it in batches. Creating such datasets/loaders significantly simplifies our training code later on.\n",
        "\n",
        "**PDF: In your pdf visualize the same image (your choice which) a couple times to demonstrate your transformations**\n",
        "\n"
      ]
    },
    {
      "cell_type": "code",
      "execution_count": null,
      "metadata": {
        "id": "RTlJmzl7dR4_"
      },
      "outputs": [],
      "source": [
        "class SegmentationDataset(data.Dataset):\n",
        "    \"\"\"\n",
        "    Data loader for the Segmentation Dataset. If data loading is a bottleneck, \n",
        "    you may want to optimize this in for faster training. Possibilities include\n",
        "    pre-loading all images and annotations into memory before training, so as \n",
        "    to limit delays due to disk reads.\n",
        "    \"\"\"\n",
        "    def __init__(self, split=\"train\", data_dir=DATASET_PATH, transform=False):\n",
        "        assert(split in [\"train\", \"val\", \"test\"])\n",
        "        self.img_dir = os.path.join(data_dir, split)\n",
        "        self.classes = []\n",
        "        with open(os.path.join(data_dir, 'classes.txt'), 'r') as f:\n",
        "            for l in f:\n",
        "                self.classes.append(l.rstrip())\n",
        "        self.n_classes = len(self.classes)\n",
        "        self.split = split\n",
        "        self.data = glob.glob(self.img_dir + '/*.jpg') \n",
        "        self.data = [os.path.splitext(l)[0] for l in self.data]\n",
        "        self.transform = transform\n",
        "        \n",
        "    def __len__(self):\n",
        "        return len(self.data)\n",
        "\n",
        "    def __getitem__(self, index):\n",
        "        img = Image.open(self.data[index] + '.jpg')\n",
        "        gt = Image.open(self.data[index] + '.png')\n",
        "\n",
        "        # Question 1: data augmentation\n",
        "        # hint: how does transforming the image affect the ground truth?\n",
        "        # Note: your transformation should not change the image dimensions    \n",
        "        if self.transform:\n",
        "            ow, oh = img.size\n",
        "            l, r, h, w = transforms.RandomCrop.get_params(img, output_size=(128,128))\n",
        "            img = transforms.Resize(size=(oh,ow))(TF.crop(img, l, r, h, w))\n",
        "            gt = transforms.Resize(size=(oh,ow))(TF.crop(gt, l, r, h, w))\n",
        "            \n",
        "            if torch.rand(1) > 0.5:\n",
        "                img = TF.hflip(img)\n",
        "                gt = TF.hflip(gt)\n",
        "\n",
        "        img = transforms.ToTensor()(img)\n",
        "        gt = torch.squeeze(transforms.PILToTensor()(gt)).type(torch.LongTensor)\n",
        "        return img, gt"
      ]
    },
    {
      "cell_type": "code",
      "execution_count": null,
      "metadata": {
        "id": "zQYG-4XptQCa"
      },
      "outputs": [],
      "source": [
        "dataset = SegmentationDataset(split=\"train\", data_dir=DATASET_PATH, transform=True)"
      ]
    },
    {
      "cell_type": "code",
      "execution_count": null,
      "metadata": {
        "id": "ZjYE1HCgHJQU"
      },
      "outputs": [],
      "source": [
        "# TODO: set the batch size, when running experiments later you should try different batch sizes\n",
        "training_batch_size = 32\n",
        "dataloader = data.DataLoader(dataset, batch_size=training_batch_size, shuffle=True, num_workers=2, drop_last=True)"
      ]
    },
    {
      "cell_type": "code",
      "execution_count": null,
      "metadata": {
        "id": "INQjI7ttWbkR"
      },
      "outputs": [],
      "source": [
        "val_dataset = SegmentationDataset(split=\"val\", data_dir=DATASET_PATH, transform=False)"
      ]
    },
    {
      "cell_type": "code",
      "execution_count": null,
      "metadata": {
        "id": "Y2KtQmTeZKUA"
      },
      "outputs": [],
      "source": [
        "val_dataloader = data.DataLoader(val_dataset, batch_size=training_batch_size, shuffle=False, num_workers=2, drop_last=False)"
      ]
    },
    {
      "cell_type": "code",
      "execution_count": null,
      "metadata": {
        "id": "DE7Ul41tznGe"
      },
      "outputs": [],
      "source": [
        "def view_image(idx):\n",
        "    img = dataset[idx]\n",
        "    _, axes = plt.subplots(1,2)\n",
        "    axes[0].imshow(np.swapaxes(np.swapaxes(img[0], 0, 2), 0, 1))\n",
        "    axes[1].imshow(img[1])\n",
        "    plt.show()"
      ]
    },
    {
      "cell_type": "code",
      "execution_count": null,
      "metadata": {
        "id": "39zXUKoZz2xZ",
        "outputId": "a67145d1-1603-43b9-8608-40ff80910ebf"
      },
      "outputs": [
        {
          "data": {
            "image/png": "[encoded data removed]",
            "text/plain": [
              "<Figure size 432x288 with 2 Axes>"
            ]
          },
          "metadata": {
            "needs_background": "light"
          },
          "output_type": "display_data"
        }
      ],
      "source": [
        "# You might want to look at a bunch of different images to get a feel for your data\n",
        "view_image(random.randint(0, len(dataset)))"
      ]
    },
    {
      "cell_type": "markdown",
      "metadata": {
        "id": "aibsLvHMXFxS"
      },
      "source": [
        "## Simple Baseline (Q2)\n",
        "\n",
        "This is a trivial semantic segmentor. For each pixel location it computes the \n",
        "distribution of the class label in the training set and uses that as the \n",
        "prediction. In other words, if a pixel is \"sky\" half the time and \"water\" the other half in the training data, you should label it as [0.5,0,0,0,0.5,0,0,0,0].\n",
        "\n",
        "**PDF: in your pdf report the evaluation metrics (from the next question) for this simple baseline. Also visualize the output image of simple_predict (since simple_predict outputs the same segmentation regardless of input you can just report a single image)**"
      ]
    },
    {
      "cell_type": "code",
      "execution_count": null,
      "metadata": {
        "id": "okJ-P_JGesKq"
      },
      "outputs": [],
      "source": [
        "# Question 2\n",
        "# Output shape: (num_classes, 224, 288)\n",
        "def simple_train(train_dataset):\n",
        "    \"\"\"\n",
        "    Implementation of a trivial segmentor where we compute the\n",
        "    class frequency at every pixel across our training data\n",
        "    \"\"\"\n",
        "    model = np.zeros((train_dataset.n_classes, 224, 288)) / train_dataset.n_classes\n",
        "    for img, gt in train_dataset:\n",
        "        for i in range(train_dataset.n_classes):\n",
        "            gt_ret = np.zeros_like(gt)\n",
        "            y, x = np.where(gt == i)\n",
        "            gt_ret[y,x] = 1\n",
        "            model[i, :, :] += np.array(gt_ret)\n",
        "    return model\n",
        "\n",
        "# Output:\n",
        "#   gt: the ground truth segmentation, shape (dataset_size, 1, 224, 288)\n",
        "#   preds: the predicted segmentation class probabilities, shape (dataset_size, 9, 224, 288) \n",
        "def simple_predict(dataloader, model):\n",
        "    gts, preds = [], []\n",
        "\n",
        "    ### Calculate Pixel-Wise Class Probabilities ###\n",
        "    model /= len(dataloader.dataset)\n",
        "    for i , batch in enumerate(tqdm(dataloader)):\n",
        "        images = batch[0]\n",
        "        labels = batch[1]\n",
        "        for j in range(len(images)):\n",
        "            gts.append(np.array(labels[j]))\n",
        "            preds.append(model)\n",
        "    return np.array(gts), np.array(preds), list(dataloader.dataset.classes)"
      ]
    },
    {
      "cell_type": "code",
      "execution_count": null,
      "metadata": {
        "id": "kLa3o95oHT3Z",
        "colab": {
          "referenced_widgets": [
            "eba9f872fbf0487a94c00fe86f0f54f0"
          ]
        },
        "outputId": "e77b9ca9-5ae9-44ec-e38b-b6f1be3b1db1"
      },
      "outputs": [
        {
          "data": {
            "application/vnd.jupyter.widget-view+json": {
              "model_id": "eba9f872fbf0487a94c00fe86f0f54f0",
              "version_major": 2,
              "version_minor": 0
            },
            "text/plain": [
              "  0%|          | 0/3 [00:00<?, ?it/s]"
            ]
          },
          "metadata": {},
          "output_type": "display_data"
        }
      ],
      "source": [
        "# our \"model\" is class frequency, train it then make predictions for the validation set \n",
        "class_freq = simple_train(dataset)\n",
        "gts, preds, classes = simple_predict(val_dataloader, class_freq)"
      ]
    },
    {
      "cell_type": "code",
      "execution_count": null,
      "metadata": {
        "id": "cT_v0FPEPOcs",
        "outputId": "e603edc6-ff76-427b-b865-4443bb24632f"
      },
      "outputs": [
        {
          "data": {
            "text/plain": [
              "<matplotlib.image.AxesImage at 0x7f77c4021dc0>"
            ]
          },
          "execution_count": 11,
          "metadata": {},
          "output_type": "execute_result"
        },
        {
          "data": {
            "image/png": "[encoded data removed]",
            "text/plain": [
              "<Figure size 432x288 with 1 Axes>"
            ]
          },
          "metadata": {
            "needs_background": "light"
          },
          "output_type": "display_data"
        }
      ],
      "source": [
        "# visualize the output segmentation prediction\n",
        "plt.imshow(np.argmax(preds[0], axis=0))"
      ]
    },
    {
      "cell_type": "markdown",
      "metadata": {
        "id": "E6s7jES4XB-C"
      },
      "source": [
        "## Evaluation Metrics (Q3)\n",
        "\n",
        "We've implemented mean average precision. Your job is to compute the confusion matrix and IoU for a set of predictions. Namely, fill in the compute_confusion_matrix function.\n",
        "\n",
        "The **(i,j)**th entry of a confusion matrix computes the number of observations known to be in group **i** and predicted to be in group **j**. You can use [sklearn.metrics.confusion_matrix](https://scikit-learn.org/stable/modules/generated/sklearn.metrics.confusion_matrix.html) as a reference and sanity check.\n",
        "\n",
        "IoU is the intersection of the predicted and ground truth segmentation masks divided by their union. Think how these values are related to what you've already computed in the confusion matrix. "
      ]
    },
    {
      "cell_type": "code",
      "execution_count": null,
      "metadata": {
        "id": "D6Dtn7yudjC8"
      },
      "outputs": [],
      "source": [
        "def segmentation_eval(gts, preds, classes, plot_file_name):\n",
        "    \"\"\"\n",
        "    @param    gts               numpy.ndarray   ground truth labels\n",
        "    @param    preds             numpy.ndarray   predicted labels\n",
        "    @param    classes           string          class names\n",
        "    @param    plot_file_name    string          plot file names\n",
        "    \"\"\"\n",
        "    ious, counts = compute_confusion_matrix(gts, preds)\n",
        "    aps = compute_ap(gts, preds)\n",
        "    plot_results(counts, ious, aps, classes, plot_file_name)\n",
        "    for i in range(len(classes)):\n",
        "        print('{:>20s}: AP: {:0.2f}, IoU: {:0.2f}'.format(classes[i], aps[i], ious[i]))\n",
        "    print('{:>20s}: AP: {:0.2f}, IoU: {:0.2f}'.format('mean', np.mean(aps), np.mean(ious)))\n",
        "    return aps, ious\n",
        "\n",
        "def plot_results(counts, ious, aps, classes, file_name):\n",
        "    fig, ax = plt.subplots(1,1)\n",
        "    conf = counts / np.sum(counts, 1, keepdims=True)\n",
        "    conf = np.concatenate([conf, np.array(aps).reshape(-1,1), \n",
        "                           np.array(ious).reshape(-1,1)], 1)\n",
        "    conf = conf * 100.\n",
        "    sns.heatmap(conf, annot=True, ax=ax, fmt='3.0f') \n",
        "    arts = [] \n",
        "    # labels, title and ticks\n",
        "    _ = ax.set_xlabel('Predicted labels')\n",
        "    arts.append(_)\n",
        "    _ = ax.set_ylabel('True labels')\n",
        "    arts.append(_)\n",
        "    _ = ax.set_title('Confusion Matrix, mAP: {:5.1f}, mIoU: {:5.1f}'.format(\n",
        "      np.mean(aps)*100., np.mean(ious)*100.))\n",
        "    arts.append(_)\n",
        "    _ = ax.xaxis.set_ticklabels(classes + ['AP', 'IoU'], rotation=90)\n",
        "    arts.append(_)\n",
        "    _ = ax.yaxis.set_ticklabels(classes, rotation=0)\n",
        "    arts.append(_)\n",
        "    # fig.savefig(file_name, bbox_inches='tight')\n",
        "    plt.show()\n",
        "\n",
        "def compute_ap(gts, preds):\n",
        "    aps = []\n",
        "    for i in range(preds.shape[1]):\n",
        "        ap, prec, rec = calc_pr(gts == i, preds[:,i:i+1,:,:])\n",
        "        aps.append(ap)\n",
        "    return aps\n",
        "\n",
        "def calc_pr(gt, out, wt=None):\n",
        "    gt = gt.astype(np.float64).reshape((-1,1))\n",
        "    out = out.astype(np.float64).reshape((-1,1))\n",
        "    tog = np.concatenate([gt, out], axis=1)*1.\n",
        "    ind = np.argsort(tog[:,1], axis=0)[::-1]\n",
        "    tog = tog[ind,:]\n",
        "    cumsumsortgt = np.cumsum(tog[:,0])\n",
        "    cumsumsortwt = np.cumsum(tog[:,0]-tog[:,0]+1)\n",
        "    prec = cumsumsortgt / cumsumsortwt\n",
        "    rec = cumsumsortgt / np.sum(tog[:,0])\n",
        "    ap = voc_ap(rec, prec)\n",
        "    return ap, rec, prec\n",
        "\n",
        "def voc_ap(rec, prec):\n",
        "    rec = rec.reshape((-1,1))\n",
        "    prec = prec.reshape((-1,1))\n",
        "    z = np.zeros((1,1)) \n",
        "    o = np.ones((1,1))\n",
        "    mrec = np.vstack((z, rec, o))\n",
        "    mpre = np.vstack((z, prec, z))\n",
        "\n",
        "    mpre = np.maximum.accumulate(mpre[::-1])[::-1]\n",
        "    I = np.where(mrec[1:] != mrec[0:-1])[0]+1;\n",
        "    ap = np.sum((mrec[I] - mrec[I-1])*mpre[I])\n",
        "    return ap\n",
        "    \n",
        "# Question 3: compute the confusion matrix and IoU metrics for each class\n",
        "# Hint: once you've computed the confusion matrix, IoU is easy\n",
        "# Note: preds contains class probabilities, convert this to a class prediction\n",
        "def compute_confusion_matrix(gts, preds):\n",
        "    # Your code\n",
        "    IoU = np.zeros((9))\n",
        "    conf = np.eye(9)\n",
        "    prediction = preds.argmax(axis=1)\n",
        "    for i in range(len(prediction)):\n",
        "        gt = gts[i].flatten()\n",
        "        pred = prediction[i].flatten()\n",
        "        for j in range(len(gt)):\n",
        "            gt_pixel = int(gt[j])\n",
        "            pred_pixel = int(pred[j])\n",
        "            conf[gt_pixel, pred_pixel] += 1\n",
        "\n",
        "    for i in range(len(conf)):\n",
        "        intersection = conf[i, i]\n",
        "        union = conf[i, :].sum()\n",
        "        IoU[i] = intersection / union\n",
        "    return IoU, conf"
      ]
    },
    {
      "cell_type": "code",
      "execution_count": null,
      "metadata": {
        "id": "D2fZb5RExOey",
        "outputId": "0f52336b-1712-4f60-be08-c9af782f3054"
      },
      "outputs": [
        {
          "data": {
            "image/png": "[encoded data removed]",
            "text/plain": [
              "<Figure size 432x288 with 2 Axes>"
            ]
          },
          "metadata": {
            "needs_background": "light"
          },
          "output_type": "display_data"
        },
        {
          "name": "stdout",
          "output_type": "stream",
          "text": [
            "                 sky: AP: 0.53, IoU: 0.10\n",
            "                tree: AP: 0.21, IoU: 0.00\n",
            "                road: AP: 0.57, IoU: 0.72\n",
            "               grass: AP: 0.11, IoU: 0.00\n",
            "               water: AP: 0.12, IoU: 0.00\n",
            "            building: AP: 0.33, IoU: 0.76\n",
            "            mountain: AP: 0.02, IoU: 0.00\n",
            "          foreground: AP: 0.24, IoU: 0.43\n",
            "                misc: AP: 0.01, IoU: 0.00\n",
            "                mean: AP: 0.24, IoU: 0.22\n"
          ]
        }
      ],
      "source": [
        "# Evaluate our trivial segmentor\n",
        "aps, ious = segmentation_eval(gts, preds, classes, 'cs498-simple-train.png')"
      ]
    },
    {
      "cell_type": "markdown",
      "metadata": {
        "id": "tH7d_f3B5c6z"
      },
      "source": [
        "## Loss function (Q4)\n",
        "\n",
        "Implement the weighted cross entropy loss. \n",
        "\n",
        "You may not call nn.CrossEntropy but can use it as a good reference and sanity check.\n",
        "\n",
        "**PDF: in your pdf please describe the cross entropy loss. Also explain the purpose of using a weighted loss.**"
      ]
    },
    {
      "cell_type": "code",
      "execution_count": null,
      "metadata": {
        "id": "opOvrt9O5qf-"
      },
      "outputs": [],
      "source": [
        "def cross_entropy_criterion(predictions, labels, weights=None, smoothing=1e-7):\n",
        "    labels = torch.permute(F.one_hot(torch.squeeze(labels), num_classes=9),(0,3,1,2))\n",
        "    if weights is not None:\n",
        "        weights = F.softmax(weights, dim=0)\n",
        "        assert torch.is_tensor(weights) is True\n",
        "        image_dim = predictions.shape[-2:]\n",
        "        image_flatten_dim = image_dim[0] * image_dim[1]\n",
        "        weights = weights.repeat(image_flatten_dim, 1).T.reshape(predictions.shape[1:])\n",
        "    \n",
        "    else:\n",
        "        weights = torch.ones_like(predictions)\n",
        "    predictions = predictions * weights\n",
        "    predictions = F.softmax(predictions, dim=1)\n",
        "    total_loss = ((-torch.log(predictions + smoothing) * labels)).sum(dim=1).mean()\n",
        "    return total_loss"
      ]
    },
    {
      "cell_type": "markdown",
      "metadata": {
        "id": "aim5asPbXJ_U"
      },
      "source": [
        "## Training loop (Q5)\n",
        "\n",
        "Fill in the training loop. We've provided validation code as well as skeleton code for training.\n",
        "\n",
        "Keep in mind that you need to move data onto the device (GPU) as you cycle through the dataloader\n",
        "\n",
        "While we've provided you with a skeleton to fill in, you should feel free to modify the visualization code for debugging purposes. For example you might want to print out the loss each iteration instead of once per epoch. Or you might want to compute validation accuracy metrics (like IoU) instead of just validation loss.\n",
        "\n",
        "**PDF: in your pdf please describe why it is important to consider both validation and training losses simultaneously. When loss stops decreasing, can we change something about the training parameters to continue improving the model?**"
      ]
    },
    {
      "cell_type": "code",
      "execution_count": null,
      "metadata": {
        "id": "3sJiJPb3huXK"
      },
      "outputs": [],
      "source": [
        "def validate_model(val_loader, model, classes, device, show_matrix=False):\n",
        "    preds = np.array([]).reshape(0,9,224,288)\n",
        "    gts = np.array([]).reshape(0,224,288)\n",
        "    with torch.no_grad():\n",
        "        for data in val_loader:\n",
        "            inputs, labels = data\n",
        "            inputs = inputs.to(device)\n",
        "\n",
        "            outputs = model(inputs).cpu().numpy()\n",
        "            preds = np.concatenate([preds, outputs], axis=0)\n",
        "            gts = np.concatenate([gts, labels.numpy()], axis=0)\n",
        "            \n",
        "            print(\"Validating...{}\\r\".format(100.0*len(preds)/len(val_loader)), end=\"\")\n",
        "\n",
        "    if show_matrix:\n",
        "        aps, ious = segmentation_eval(gts, preds, classes, 'cs543-simple-val_3.pdf')\n",
        "    else:\n",
        "        ious, counts = compute_confusion_matrix(gts, preds)\n",
        "        aps = compute_ap(gts, preds)\n",
        "        for i in range(len(classes)):\n",
        "            print('{:>20s}: AP: {:0.2f}, IoU: {:0.2f}'.format(classes[i], aps[i], ious[i]))\n",
        "        print('{:>20s}: AP: {:0.2f}, IoU: {:0.2f}'.format('mean', np.mean(aps), np.mean(ious)))\n",
        "\n",
        "    return preds, gts\n",
        "\n",
        "def training_loop(model, optimizer, trainloader, device=\"cuda:0\", criterion=None,\n",
        "                  class_weights=None, valloader=None, epochs=30):\n",
        "\n",
        "    train_loss_over_epochs = []\n",
        "    val_loss_over_epochs = []\n",
        "    plt.ioff()\n",
        "    fig = plt.figure()\n",
        "    \n",
        "    if class_weights is None:\n",
        "        class_weights = torch.ones(9).to(device)\n",
        "    if criterion is None: \n",
        "        ### IF NOT GIVEN CROSSENTROPY FUNCTION USE PYTORCH METHOD ###\n",
        "        criterion_torch = nn.CrossEntropyLoss(weight=class_weights)\n",
        "\n",
        "    for epoch in tqdm(range(epochs), total=epochs):\n",
        "        running_loss = 0\n",
        "        counter = 0\n",
        "\n",
        "        ### MODEL TRAINING ###\n",
        "        model.train()\n",
        "        for i, data in tqdm(enumerate(trainloader, start=0)):\n",
        "            image, label = data[0].to(device), data[1].to(device)\n",
        "            model.zero_grad()\n",
        "            out = model.forward(image)\n",
        "            if criterion is not None:\n",
        "                ### If using custom Cross Entropy Function\n",
        "                loss = criterion(out, label, class_weights)\n",
        "            else:\n",
        "                ### If using PyTorch Criterion\n",
        "                loss = criterion_torch(out, label)\n",
        "            running_loss += loss.item()\n",
        "            loss.backward()\n",
        "            optimizer.step()\n",
        "            counter += 1\n",
        "\n",
        "        running_loss = running_loss / counter\n",
        "        train_loss_over_epochs.append(running_loss)\n",
        "        print(\"Epoch: {}, Training Loss: {:.3f}\".format(epoch + 1, running_loss))\n",
        "\n",
        "        ### MODEL EVAL ###\n",
        "        model.eval()\n",
        "        if valloader is not None:\n",
        "            val_loss = 0\n",
        "            counter = 0\n",
        "            with torch.no_grad():\n",
        "                for data in valloader:\n",
        "                    image, label = data[0].to(device), data[1].to(device)\n",
        "                    out = model.forward(image)\n",
        "                    if criterion is not None:\n",
        "                        ### If using custom Cross Entropy Function\n",
        "                        loss = criterion(out, label, class_weights)\n",
        "                    else:\n",
        "                        ### If using PyTorch Criterion\n",
        "                        loss = criterion_torch(out, label)\n",
        "                    val_loss += loss.item()\n",
        "                    counter += 1\n",
        "            val_loss = val_loss / counter\n",
        "            val_loss_over_epochs.append(val_loss)\n",
        "            print(\"Epoch: {}, Validation Loss: {:.3f}\".format(epoch + 1, val_loss))\n",
        "\n",
        "    plt.subplot(2,1,1)\n",
        "    plt.ylabel(\"Loss\")\n",
        "    plt.plot(np.arange(epochs), train_loss_over_epochs, color='red', label='train')\n",
        "    if not valloader is None:\n",
        "        plt.plot(np.arange(epochs), val_loss_over_epochs, color='blue', label='val')\n",
        "    plt.title('Loss per Epoch')\n",
        "    plt.xticks(np.arange(epochs, dtype=int))\n",
        "    plt.grid(True)\n",
        "    plt.legend()\n",
        "    plt.show()\n",
        "\n",
        "    return model\n",
        "\n"
      ]
    },
    {
      "cell_type": "markdown",
      "metadata": {
        "id": "mjavHluFXQQo"
      },
      "source": [
        "## Model definitions (Q6)\n",
        "\n",
        "Now create your models. Create one basic Convolutional architecture and one U-Net architecture.\n",
        "\n",
        "We provide some helpful methods below to compute the size of your next convolutional layer (you can find these formula at TODO).\n",
        "\n",
        "Some things to keep in mind:\n",
        "- your basic layer is nn.Conv2D, read its documentation\n",
        "- for UNet you will also need nn.ConvTranspose2D and Pooling layers\n",
        "- nn.BatchNorm2d is incredibly helpful between layers\n",
        "- you can stick to ReLU activations, but are welcome to report results with other activation functions\n",
        "\n",
        "**PDF: in your pdf please describe your final model architectures. Report the training plots and final accuracy metrics on the validation set for each model. What batch size, learning rate, optimizer did you find works best. Perform a small ablation study: what is the effect of batchnorm on training speed and accuracy? Visualize a few images and their predicted segmentation masks by your UNet model.**"
      ]
    },
    {
      "cell_type": "code",
      "execution_count": null,
      "metadata": {
        "id": "ivdsc7JntBKn"
      },
      "outputs": [],
      "source": [
        "def conv_out_size(inp_size, kernel_size, dilation, padding, stride):\n",
        "    return ((inp_size + 2*padding - dilation * (kernel_size - 1) - 1) // stride) + 1\n",
        "\n",
        "def conv_trans_out_size(inp_size, kernel_size, dilation, padding, stride, out_padding):\n",
        "    return (inp_size - 1) * stride - 2*padding + dilation * (kernel_size - 1) + out_padding + 1"
      ]
    },
    {
      "cell_type": "code",
      "execution_count": null,
      "metadata": {
        "id": "aAgnZybURr_d"
      },
      "outputs": [],
      "source": [
        "### CONVBLOCK CLASS ###\n",
        "class ConvBlock(nn.Module):\n",
        "    \"\"\"\n",
        "    Double Convolution with BatchNormalization\n",
        "    \"\"\"\n",
        "    def __init__(self, in_channels, out_channels):\n",
        "        super(ConvBlock, self).__init__()\n",
        "        self.block = nn.Sequential(nn.Conv2d(in_channels=in_channels,\n",
        "                                             out_channels=out_channels,\n",
        "                                             kernel_size=(3,3),\n",
        "                                             stride=(1,1),\n",
        "                                             padding=1,\n",
        "                                             bias=False),\n",
        "                                   nn.BatchNorm2d(out_channels),\n",
        "                                   nn.ReLU(),\n",
        "                                   nn.Conv2d(in_channels=out_channels,\n",
        "                                             out_channels=out_channels,\n",
        "                                             kernel_size=(3,3),\n",
        "                                             stride=(1,1),\n",
        "                                             padding=1,\n",
        "                                             bias=False),\n",
        "                                   nn.BatchNorm2d(out_channels),\n",
        "                                   nn.ReLU())\n",
        "\n",
        "    def forward(self, x):\n",
        "        return self.block(x)"
      ]
    },
    {
      "cell_type": "code",
      "execution_count": null,
      "metadata": {
        "id": "x8JFBS5zs7qS"
      },
      "outputs": [],
      "source": [
        "class UNetNoSkip(nn.Module):\n",
        "    \"\"\"\n",
        "    UNet Encoder/Decoder Architecture without Skip Connections\n",
        "    :param in_channels: Input Channels for image\n",
        "    :param num_classes: Number of output classes in segmentation\n",
        "    :param channel_filters: Number of filters at each ConvBlock\n",
        "    \"\"\"\n",
        "\n",
        "    def __init__(self, in_channels=3, num_classes=9,\n",
        "                 channel_filters=None, block=ConvBlock):\n",
        "        super(UNetNoSkip, self).__init__()\n",
        "        self.ConvBlock = block\n",
        "        channel_filters = channel_filters\n",
        "        if channel_filters is None:\n",
        "            channel_filters = [64, 128, 256, 512]\n",
        "        self.channels = [in_channels] + channel_filters\n",
        "        self.maxpool = nn.MaxPool2d(kernel_size=2, stride=2)\n",
        "\n",
        "        ### ENCODER ###\n",
        "        self.encoder = nn.ModuleList()\n",
        "        for idx in range(len(self.channels) - 1):\n",
        "            self.encoder.append(self.ConvBlock(self.channels[idx], self.channels[idx+1]))\n",
        "\n",
        "        ### BOTTLENECK ###\n",
        "        self.bottleneck = self.ConvBlock(self.channels[-1], self.channels[-1]*2)\n",
        "\n",
        "        ### DECODER ###\n",
        "        self.decoder = nn.ModuleList()\n",
        "        self.channels_dec = self.channels[1:][::-1]\n",
        "\n",
        "        for idx in range(len(self.channels_dec)):\n",
        "            self.decoder.append(\n",
        "                nn.ModuleList([\n",
        "                    nn.ConvTranspose2d(\n",
        "                        ### TRANSPOSE FROM DOUBLE CHANNELS TO SINGLE\n",
        "                        in_channels=self.channels_dec[idx]*2,\n",
        "                        out_channels=self.channels_dec[idx],\n",
        "                        kernel_size=(2,2),\n",
        "                        stride=(2,2)),\n",
        "                    ConvBlock(\n",
        "                        ### DOUBLE CHANNELS FROM SKIP CAT\n",
        "                        in_channels=self.channels_dec[idx],\n",
        "                        out_channels=self.channels_dec[idx])\n",
        "                ])\n",
        "            )\n",
        "\n",
        "        ### OUTPUT TO NUM CLASSES ###\n",
        "        self.match_class_conv = nn.Conv2d(self.channels[1],\n",
        "                                          out_channels=num_classes,\n",
        "                                          kernel_size=(1,1))\n",
        "\n",
        "    def forward(self, x):\n",
        "        ### ENCODER ###\n",
        "        for encode in self.encoder:\n",
        "            x = encode(x)\n",
        "            x = self.maxpool(x)\n",
        "\n",
        "        ### BOTTLENECK ###\n",
        "        x = self.bottleneck(x)\n",
        "\n",
        "        ### DECODER ###\n",
        "        for idx, (transpose, block) in enumerate(self.decoder):\n",
        "            x = transpose(x)\n",
        "            x = block(x)\n",
        "\n",
        "        ### OUTPUT TO NUM CLASSES ###\n",
        "        x = self.match_class_conv(x)\n",
        "        return x\n"
      ]
    },
    {
      "cell_type": "code",
      "execution_count": null,
      "metadata": {
        "id": "4oMHIGsCdckB"
      },
      "outputs": [],
      "source": [
        "class UNet(nn.Module):\n",
        "    \"\"\"\n",
        "    UNet Encoder/Decoder Architecture\n",
        "    :param in_channels: Input Channels for image\n",
        "    :param num_classes: Number of output classes in segmentation\n",
        "    :param channel_filters: Number of filters at each ConvBlock\n",
        "    \"\"\"\n",
        "\n",
        "    def __init__(self, in_channels=3, num_classes=9,\n",
        "                 channel_filters=None, block=ConvBlock):\n",
        "        super(UNet, self).__init__()\n",
        "        self.ConvBlock = block\n",
        "        channel_filters = channel_filters\n",
        "        if channel_filters is None:\n",
        "            channel_filters = [64, 128, 256, 512]\n",
        "        self.channels = [in_channels] + channel_filters\n",
        "        self.maxpool = nn.MaxPool2d(kernel_size=2, stride=2)\n",
        "\n",
        "        ### ENCODER ###\n",
        "        self.encoder = nn.ModuleList()\n",
        "        for idx in range(len(self.channels) - 1):\n",
        "            self.encoder.append(self.ConvBlock(self.channels[idx], self.channels[idx+1]))\n",
        "\n",
        "        ### BOTTLENECK ###\n",
        "        self.bottleneck = self.ConvBlock(self.channels[-1], self.channels[-1]*2)\n",
        "\n",
        "        ### DECODER ###\n",
        "        self.decoder = nn.ModuleList()\n",
        "        self.channels_dec = self.channels[1:][::-1]\n",
        "\n",
        "        for idx in range(len(self.channels_dec)):\n",
        "            self.decoder.append(\n",
        "                nn.ModuleList([\n",
        "                    nn.ConvTranspose2d(\n",
        "                        ### TRANSPOSE FROM DOUBLE CHANNELS TO SINGLE\n",
        "                        in_channels=self.channels_dec[idx]*2,\n",
        "                        out_channels=self.channels_dec[idx],\n",
        "                        kernel_size=(2,2),\n",
        "                        stride=(2,2)),\n",
        "                    ConvBlock(\n",
        "                        ### DOUBLE CHANNELS FROM SKIP CAT\n",
        "                        in_channels=self.channels_dec[idx]*2,\n",
        "                        out_channels=self.channels_dec[idx])\n",
        "                ])\n",
        "            )\n",
        "\n",
        "        ### OUTPUT TO NUM CLASSES ###\n",
        "        self.match_class_conv = nn.Conv2d(self.channels[1],\n",
        "                                          out_channels=num_classes,\n",
        "                                          kernel_size=(1,1))\n",
        "\n",
        "    def forward(self, x):\n",
        "        skip = []\n",
        "\n",
        "        ### ENCODER ###\n",
        "        for encode in self.encoder:\n",
        "            x = encode(x)\n",
        "            skip.append(x)\n",
        "            x = self.maxpool(x)\n",
        "\n",
        "        ### REVERSE SKIP CONNECTIONS ###\n",
        "        skip = skip[::-1]\n",
        "\n",
        "        ### BOTTLENECK ###\n",
        "        x = self.bottleneck(x)\n",
        "\n",
        "        ### DECODER ###\n",
        "        for idx, (transpose, block) in enumerate(self.decoder):\n",
        "            x = transpose(x)\n",
        "\n",
        "            ### CHECK SHAPE AND RESIZE IF NEEDED ###\n",
        "            if x.shape != skip[idx].shape:\n",
        "                x = TF.resize(x, size=skip[idx].shape[2:])\n",
        "\n",
        "            ### CONCAT SKIP CONNECTION ###\n",
        "            skip_cat = torch.cat((skip[idx], x), dim=1)\n",
        "            x = block(skip_cat)\n",
        "\n",
        "        ### OUTPUT TO NUM CLASSES ###\n",
        "        x = self.match_class_conv(x)\n",
        "        return x\n"
      ]
    },
    {
      "cell_type": "markdown",
      "metadata": {
        "id": "CZfzCe7OXXAo"
      },
      "source": [
        "### Now we can finally train our models..."
      ]
    },
    {
      "cell_type": "code",
      "execution_count": null,
      "metadata": {
        "id": "aeZky2AHeyec",
        "outputId": "92159ba3-0492-4546-d3f0-2d2656d51eab"
      },
      "outputs": [
        {
          "name": "stdout",
          "output_type": "stream",
          "text": [
            "Using device: cuda:0\n"
          ]
        }
      ],
      "source": [
        "# if runtime has GPU use GPU\n",
        "if torch.cuda.is_available():\n",
        "    device = torch.device(\"cuda:0\")\n",
        "else:\n",
        "    device = torch.device(\"cpu\")\n",
        "print(\"Using device:\", device)"
      ]
    },
    {
      "cell_type": "code",
      "execution_count": null,
      "metadata": {
        "id": "x-enlYgsAyNV",
        "outputId": "99744832-069d-4dfe-bf2f-cf0f34943fd6"
      },
      "outputs": [
        {
          "name": "stdout",
          "output_type": "stream",
          "text": [
            "tensor([0.0169, 0.0118, 0.0101, 0.0265, 0.0559, 0.0070, 0.1154, 0.0084, 0.3272],\n",
            "       device='cuda:0')\n"
          ]
        }
      ],
      "source": [
        "# For the weighted cross entropy loss we can compute class weights using our simple baseline\n",
        "class_freq = simple_train(dataset)\n",
        "class_weights = []\n",
        "for i in range(9):\n",
        "    class_weights.append(1 / np.mean(class_freq[i, :, :]))\n",
        "class_weights = torch.from_numpy(np.array(class_weights)).type(torch.float32).to(device)\n",
        "print(class_weights)"
      ]
    },
    {
      "cell_type": "markdown",
      "metadata": {
        "id": "t63AoeXITni9"
      },
      "source": [
        "### Basic convolutional model training"
      ]
    },
    {
      "cell_type": "code",
      "execution_count": null,
      "metadata": {
        "id": "0AHoBzsPtB-x"
      },
      "outputs": [],
      "source": [
        "# First make the model and put it on the device\n",
        "base_model = UNetNoSkip().to(device)\n",
        "\n",
        "lr = 0.001\n",
        "optimizer = optim.Adam(base_model.parameters(), lr=lr)\n",
        "training_loop(model=base_model,\n",
        "              optimizer=optimizer,\n",
        "              trainloader=dataloader,\n",
        "              device=device,\n",
        "              criterion=cross_entropy_criterion,\n",
        "              class_weights=class_weights,\n",
        "              valloader=val_dataloader,\n",
        "              epochs=60)\n",
        "\n",
        "preds, gts = validate_model(val_loader=val_dataloader,\n",
        "                            model=base_model,\n",
        "                            classes=classes,\n",
        "                            device=device,\n",
        "                            show_matrix=True)"
      ]
    },
    {
      "cell_type": "markdown",
      "metadata": {
        "id": "7N0JIgMUvpg8"
      },
      "source": [
        "#### UNet model training"
      ]
    },
    {
      "cell_type": "code",
      "execution_count": null,
      "metadata": {
        "id": "gWKLqr8Ou0y2",
        "colab": {
          "referenced_widgets": [
            "bbf8299fe7b0446dad90b65ed39b71e6",
            "ff7b19f3f54446d88239fa39972fe3f1",
            "d1147aae7ca447e3b14c9414b80d8165",
            "7a3a75486fbc4420b23425f9f2689ffd",
            "864f89053603472ab76972a7271f45af",
            "5098c51be6fd4e9e8496023d23ef6a3b",
            "f6345e25aaa74ec78ad68ba51e2dba78",
            "715125be95514ee99b5b4e105f7ab4fc",
            "cfec6aaa027f43c498a94d1528974787",
            "ac5dac38d4b14ef6b218a0cb3cb7b9d2",
            "74dff9dcc54448a8a43ee6718e980cab",
            "f0fd3f415f544e79a94051ac7e7e39d3",
            "048ed2e40f1d4d0cb5f6c33a9f473d80",
            "ffc02f74acdb460d9a9e258b78cbff49",
            "c3542a48f38a475bbee6f62b80c91491",
            "50247c6df1ab45c09ade0b2137546c41",
            "8b69ee197b7c473289b0441105d39a74",
            "b85111ca204043d2b940d47c84f37471",
            "e08914c833eb4c00a54839ef1fcbc0fa",
            "575ee0415d954afbae94622c80986a5d",
            "2627a3738e5a4401b2c004b0d02ef874",
            "078303cff89c4c52b41d832ca8da277a",
            "879f8ff4224b4858b15572ef5297b5b0",
            "6c172fd8854f4a7282f3cb291be39435",
            "27bd914863504f1db02ac4ee9bcd28e3",
            "4c5ef1a618c94c919752f596e3377a75",
            "7490580f518b411e98f8d00077edeaa6",
            "ea192d2aca4d428dbc7e11b0e920556b",
            "b9f34130cd2f427d8b36247ec3b61e30",
            "e8ffc5b703304b57bbdf672618781a04",
            "fbb73f35be2d4acd846f0097ebf4aa7d",
            "5d11d653a5da4af787fbebf882cf4191",
            "710491fcc3a8471494bf58afc9498ef3",
            "a666714287c04416942ebb41c2bdfa12",
            "72c12dddd4b6465bbffa188dba1dad0f",
            "b2a26747fa6743268e4447f382720b91",
            "ab46853ee6c24d5fbdbb2c796e00d830",
            "4baa661860e8428e9b0c3e1a06796b22",
            "a3fcf1e1aa43423bb65c7a63529b4e40",
            "7a5ca9d8b3744599a8b81ebba14705e4",
            "cec121d54f064c0b8071e5b2a77f2725",
            "911606b1692a4ceab9e3061e737d0a37",
            "45135110d9a1447f824f8c6bba18849a",
            "9d803cd1754b412b89dfc8b040be558a",
            "dcf32d0aa3d546c3be9d7e5b55cb1288",
            "c26584ed5f7b4f5fb6fc57def99195d3",
            "dd7c43a52e0749ef90e264bca47d62f4",
            "e4451471f94a47a0a6f37a1a0ae32087",
            "aab11900c04949eeba117bd44550ccc2",
            "d69e7cdc8388458ca83ca565e112c9b0",
            "d2c9aaf2eb7b46759f948b063f21d1cf",
            "d8524bde745e4d999f999dd9da0201bf",
            "076f078cb0834dd3b7af91e5d187f509",
            "9d517952334a45f599198ecae6d2be41",
            "52d07e5857d648f284060289bc3abae1",
            "73dd2a09838e438f92d15d6184aafecc",
            "722a3133cc894e2db5a42cbe88dbe1bc",
            "d22533e68c8d4c1a95cd3d8d85e13166",
            "58518736c3944ee1b4c67539ea6c9b6d",
            "473137b464fe4eecb4fa36913e6eee30",
            "7629dc24e71e4f76aa6fca384f8ce320"
          ]
        },
        "outputId": "c50b3d66-a972-4c40-dc93-0bdd32bc92a6"
      },
      "outputs": [
        {
          "data": {
            "application/vnd.jupyter.widget-view+json": {
              "model_id": "bbf8299fe7b0446dad90b65ed39b71e6",
              "version_major": 2,
              "version_minor": 0
            },
            "text/plain": [
              "  0%|          | 0/60 [00:00<?, ?it/s]"
            ]
          },
          "metadata": {},
          "output_type": "display_data"
        },
        {
          "data": {
            "application/vnd.jupyter.widget-view+json": {
              "model_id": "ff7b19f3f54446d88239fa39972fe3f1",
              "version_major": 2,
              "version_minor": 0
            },
            "text/plain": [
              "0it [00:00, ?it/s]"
            ]
          },
          "metadata": {},
          "output_type": "display_data"
        },
        {
          "name": "stderr",
          "output_type": "stream",
          "text": [
            "/home/priyammazumdar/anaconda3/envs/torch/lib/python3.9/site-packages/torch/nn/functional.py:718: UserWarning: Named tensors and all their associated APIs are an experimental feature and subject to change. Please do not use them for anything important until they are released as stable. (Triggered internally at  /opt/conda/conda-bld/pytorch_1623448238472/work/c10/core/TensorImpl.h:1156.)\n",
            "  return torch.max_pool2d(input, kernel_size, stride, padding, dilation, ceil_mode)\n"
          ]
        },
        {
          "name": "stdout",
          "output_type": "stream",
          "text": [
            "Epoch: 1, Training Loss: 1.704\n",
            "Epoch: 1, Validation Loss: 4.485\n"
          ]
        },
        {
          "data": {
            "application/vnd.jupyter.widget-view+json": {
              "model_id": "d1147aae7ca447e3b14c9414b80d8165",
              "version_major": 2,
              "version_minor": 0
            },
            "text/plain": [
              "0it [00:00, ?it/s]"
            ]
          },
          "metadata": {},
          "output_type": "display_data"
        },
        {
          "name": "stdout",
          "output_type": "stream",
          "text": [
            "Epoch: 2, Training Loss: 1.434\n",
            "Epoch: 2, Validation Loss: 1.799\n"
          ]
        },
        {
          "data": {
            "application/vnd.jupyter.widget-view+json": {
              "model_id": "7a3a75486fbc4420b23425f9f2689ffd",
              "version_major": 2,
              "version_minor": 0
            },
            "text/plain": [
              "0it [00:00, ?it/s]"
            ]
          },
          "metadata": {},
          "output_type": "display_data"
        },
        {
          "name": "stdout",
          "output_type": "stream",
          "text": [
            "Epoch: 3, Training Loss: 1.284\n",
            "Epoch: 3, Validation Loss: 1.508\n"
          ]
        },
        {
          "data": {
            "application/vnd.jupyter.widget-view+json": {
              "model_id": "864f89053603472ab76972a7271f45af",
              "version_major": 2,
              "version_minor": 0
            },
            "text/plain": [
              "0it [00:00, ?it/s]"
            ]
          },
          "metadata": {},
          "output_type": "display_data"
        },
        {
          "name": "stdout",
          "output_type": "stream",
          "text": [
            "Epoch: 4, Training Loss: 1.219\n",
            "Epoch: 4, Validation Loss: 1.211\n"
          ]
        },
        {
          "data": {
            "application/vnd.jupyter.widget-view+json": {
              "model_id": "5098c51be6fd4e9e8496023d23ef6a3b",
              "version_major": 2,
              "version_minor": 0
            },
            "text/plain": [
              "0it [00:00, ?it/s]"
            ]
          },
          "metadata": {},
          "output_type": "display_data"
        },
        {
          "name": "stdout",
          "output_type": "stream",
          "text": [
            "Epoch: 5, Training Loss: 1.104\n",
            "Epoch: 5, Validation Loss: 1.317\n"
          ]
        },
        {
          "data": {
            "application/vnd.jupyter.widget-view+json": {
              "model_id": "f6345e25aaa74ec78ad68ba51e2dba78",
              "version_major": 2,
              "version_minor": 0
            },
            "text/plain": [
              "0it [00:00, ?it/s]"
            ]
          },
          "metadata": {},
          "output_type": "display_data"
        },
        {
          "name": "stdout",
          "output_type": "stream",
          "text": [
            "Epoch: 6, Training Loss: 1.094\n",
            "Epoch: 6, Validation Loss: 1.553\n"
          ]
        },
        {
          "data": {
            "application/vnd.jupyter.widget-view+json": {
              "model_id": "715125be95514ee99b5b4e105f7ab4fc",
              "version_major": 2,
              "version_minor": 0
            },
            "text/plain": [
              "0it [00:00, ?it/s]"
            ]
          },
          "metadata": {},
          "output_type": "display_data"
        },
        {
          "name": "stdout",
          "output_type": "stream",
          "text": [
            "Epoch: 7, Training Loss: 1.073\n",
            "Epoch: 7, Validation Loss: 1.332\n"
          ]
        },
        {
          "data": {
            "application/vnd.jupyter.widget-view+json": {
              "model_id": "cfec6aaa027f43c498a94d1528974787",
              "version_major": 2,
              "version_minor": 0
            },
            "text/plain": [
              "0it [00:00, ?it/s]"
            ]
          },
          "metadata": {},
          "output_type": "display_data"
        },
        {
          "name": "stdout",
          "output_type": "stream",
          "text": [
            "Epoch: 8, Training Loss: 1.075\n",
            "Epoch: 8, Validation Loss: 1.069\n"
          ]
        },
        {
          "data": {
            "application/vnd.jupyter.widget-view+json": {
              "model_id": "ac5dac38d4b14ef6b218a0cb3cb7b9d2",
              "version_major": 2,
              "version_minor": 0
            },
            "text/plain": [
              "0it [00:00, ?it/s]"
            ]
          },
          "metadata": {},
          "output_type": "display_data"
        },
        {
          "name": "stdout",
          "output_type": "stream",
          "text": [
            "Epoch: 9, Training Loss: 1.057\n",
            "Epoch: 9, Validation Loss: 1.403\n"
          ]
        },
        {
          "data": {
            "application/vnd.jupyter.widget-view+json": {
              "model_id": "74dff9dcc54448a8a43ee6718e980cab",
              "version_major": 2,
              "version_minor": 0
            },
            "text/plain": [
              "0it [00:00, ?it/s]"
            ]
          },
          "metadata": {},
          "output_type": "display_data"
        },
        {
          "name": "stdout",
          "output_type": "stream",
          "text": [
            "Epoch: 10, Training Loss: 1.041\n",
            "Epoch: 10, Validation Loss: 1.028\n"
          ]
        },
        {
          "data": {
            "application/vnd.jupyter.widget-view+json": {
              "model_id": "f0fd3f415f544e79a94051ac7e7e39d3",
              "version_major": 2,
              "version_minor": 0
            },
            "text/plain": [
              "0it [00:00, ?it/s]"
            ]
          },
          "metadata": {},
          "output_type": "display_data"
        },
        {
          "name": "stdout",
          "output_type": "stream",
          "text": [
            "Epoch: 11, Training Loss: 1.012\n",
            "Epoch: 11, Validation Loss: 1.066\n"
          ]
        },
        {
          "data": {
            "application/vnd.jupyter.widget-view+json": {
              "model_id": "048ed2e40f1d4d0cb5f6c33a9f473d80",
              "version_major": 2,
              "version_minor": 0
            },
            "text/plain": [
              "0it [00:00, ?it/s]"
            ]
          },
          "metadata": {},
          "output_type": "display_data"
        },
        {
          "name": "stdout",
          "output_type": "stream",
          "text": [
            "Epoch: 12, Training Loss: 1.052\n",
            "Epoch: 12, Validation Loss: 1.274\n"
          ]
        },
        {
          "data": {
            "application/vnd.jupyter.widget-view+json": {
              "model_id": "ffc02f74acdb460d9a9e258b78cbff49",
              "version_major": 2,
              "version_minor": 0
            },
            "text/plain": [
              "0it [00:00, ?it/s]"
            ]
          },
          "metadata": {},
          "output_type": "display_data"
        },
        {
          "name": "stdout",
          "output_type": "stream",
          "text": [
            "Epoch: 13, Training Loss: 1.007\n",
            "Epoch: 13, Validation Loss: 0.994\n"
          ]
        },
        {
          "data": {
            "application/vnd.jupyter.widget-view+json": {
              "model_id": "c3542a48f38a475bbee6f62b80c91491",
              "version_major": 2,
              "version_minor": 0
            },
            "text/plain": [
              "0it [00:00, ?it/s]"
            ]
          },
          "metadata": {},
          "output_type": "display_data"
        },
        {
          "name": "stdout",
          "output_type": "stream",
          "text": [
            "Epoch: 14, Training Loss: 0.970\n",
            "Epoch: 14, Validation Loss: 1.610\n"
          ]
        },
        {
          "data": {
            "application/vnd.jupyter.widget-view+json": {
              "model_id": "50247c6df1ab45c09ade0b2137546c41",
              "version_major": 2,
              "version_minor": 0
            },
            "text/plain": [
              "0it [00:00, ?it/s]"
            ]
          },
          "metadata": {},
          "output_type": "display_data"
        },
        {
          "name": "stdout",
          "output_type": "stream",
          "text": [
            "Epoch: 15, Training Loss: 0.991\n",
            "Epoch: 15, Validation Loss: 1.124\n"
          ]
        },
        {
          "data": {
            "application/vnd.jupyter.widget-view+json": {
              "model_id": "8b69ee197b7c473289b0441105d39a74",
              "version_major": 2,
              "version_minor": 0
            },
            "text/plain": [
              "0it [00:00, ?it/s]"
            ]
          },
          "metadata": {},
          "output_type": "display_data"
        },
        {
          "name": "stdout",
          "output_type": "stream",
          "text": [
            "Epoch: 16, Training Loss: 0.979\n",
            "Epoch: 16, Validation Loss: 1.043\n"
          ]
        },
        {
          "data": {
            "application/vnd.jupyter.widget-view+json": {
              "model_id": "b85111ca204043d2b940d47c84f37471",
              "version_major": 2,
              "version_minor": 0
            },
            "text/plain": [
              "0it [00:00, ?it/s]"
            ]
          },
          "metadata": {},
          "output_type": "display_data"
        },
        {
          "name": "stdout",
          "output_type": "stream",
          "text": [
            "Epoch: 17, Training Loss: 0.958\n",
            "Epoch: 17, Validation Loss: 1.075\n"
          ]
        },
        {
          "data": {
            "application/vnd.jupyter.widget-view+json": {
              "model_id": "e08914c833eb4c00a54839ef1fcbc0fa",
              "version_major": 2,
              "version_minor": 0
            },
            "text/plain": [
              "0it [00:00, ?it/s]"
            ]
          },
          "metadata": {},
          "output_type": "display_data"
        },
        {
          "name": "stdout",
          "output_type": "stream",
          "text": [
            "Epoch: 18, Training Loss: 0.958\n",
            "Epoch: 18, Validation Loss: 0.956\n"
          ]
        },
        {
          "data": {
            "application/vnd.jupyter.widget-view+json": {
              "model_id": "575ee0415d954afbae94622c80986a5d",
              "version_major": 2,
              "version_minor": 0
            },
            "text/plain": [
              "0it [00:00, ?it/s]"
            ]
          },
          "metadata": {},
          "output_type": "display_data"
        },
        {
          "name": "stdout",
          "output_type": "stream",
          "text": [
            "Epoch: 19, Training Loss: 0.956\n",
            "Epoch: 19, Validation Loss: 0.984\n"
          ]
        },
        {
          "data": {
            "application/vnd.jupyter.widget-view+json": {
              "model_id": "2627a3738e5a4401b2c004b0d02ef874",
              "version_major": 2,
              "version_minor": 0
            },
            "text/plain": [
              "0it [00:00, ?it/s]"
            ]
          },
          "metadata": {},
          "output_type": "display_data"
        },
        {
          "name": "stdout",
          "output_type": "stream",
          "text": [
            "Epoch: 20, Training Loss: 0.956\n",
            "Epoch: 20, Validation Loss: 1.177\n"
          ]
        },
        {
          "data": {
            "application/vnd.jupyter.widget-view+json": {
              "model_id": "078303cff89c4c52b41d832ca8da277a",
              "version_major": 2,
              "version_minor": 0
            },
            "text/plain": [
              "0it [00:00, ?it/s]"
            ]
          },
          "metadata": {},
          "output_type": "display_data"
        },
        {
          "name": "stdout",
          "output_type": "stream",
          "text": [
            "Epoch: 21, Training Loss: 0.900\n",
            "Epoch: 21, Validation Loss: 1.561\n"
          ]
        },
        {
          "data": {
            "application/vnd.jupyter.widget-view+json": {
              "model_id": "879f8ff4224b4858b15572ef5297b5b0",
              "version_major": 2,
              "version_minor": 0
            },
            "text/plain": [
              "0it [00:00, ?it/s]"
            ]
          },
          "metadata": {},
          "output_type": "display_data"
        },
        {
          "name": "stdout",
          "output_type": "stream",
          "text": [
            "Epoch: 22, Training Loss: 0.900\n",
            "Epoch: 22, Validation Loss: 1.208\n"
          ]
        },
        {
          "data": {
            "application/vnd.jupyter.widget-view+json": {
              "model_id": "6c172fd8854f4a7282f3cb291be39435",
              "version_major": 2,
              "version_minor": 0
            },
            "text/plain": [
              "0it [00:00, ?it/s]"
            ]
          },
          "metadata": {},
          "output_type": "display_data"
        },
        {
          "name": "stdout",
          "output_type": "stream",
          "text": [
            "Epoch: 23, Training Loss: 0.858\n",
            "Epoch: 23, Validation Loss: 1.011\n"
          ]
        },
        {
          "data": {
            "application/vnd.jupyter.widget-view+json": {
              "model_id": "27bd914863504f1db02ac4ee9bcd28e3",
              "version_major": 2,
              "version_minor": 0
            },
            "text/plain": [
              "0it [00:00, ?it/s]"
            ]
          },
          "metadata": {},
          "output_type": "display_data"
        },
        {
          "name": "stdout",
          "output_type": "stream",
          "text": [
            "Epoch: 24, Training Loss: 0.936\n",
            "Epoch: 24, Validation Loss: 1.121\n"
          ]
        },
        {
          "data": {
            "application/vnd.jupyter.widget-view+json": {
              "model_id": "4c5ef1a618c94c919752f596e3377a75",
              "version_major": 2,
              "version_minor": 0
            },
            "text/plain": [
              "0it [00:00, ?it/s]"
            ]
          },
          "metadata": {},
          "output_type": "display_data"
        },
        {
          "name": "stdout",
          "output_type": "stream",
          "text": [
            "Epoch: 25, Training Loss: 0.874\n",
            "Epoch: 25, Validation Loss: 0.990\n"
          ]
        },
        {
          "data": {
            "application/vnd.jupyter.widget-view+json": {
              "model_id": "7490580f518b411e98f8d00077edeaa6",
              "version_major": 2,
              "version_minor": 0
            },
            "text/plain": [
              "0it [00:00, ?it/s]"
            ]
          },
          "metadata": {},
          "output_type": "display_data"
        },
        {
          "name": "stdout",
          "output_type": "stream",
          "text": [
            "Epoch: 26, Training Loss: 0.871\n",
            "Epoch: 26, Validation Loss: 1.043\n"
          ]
        },
        {
          "data": {
            "application/vnd.jupyter.widget-view+json": {
              "model_id": "ea192d2aca4d428dbc7e11b0e920556b",
              "version_major": 2,
              "version_minor": 0
            },
            "text/plain": [
              "0it [00:00, ?it/s]"
            ]
          },
          "metadata": {},
          "output_type": "display_data"
        },
        {
          "name": "stdout",
          "output_type": "stream",
          "text": [
            "Epoch: 27, Training Loss: 0.862\n",
            "Epoch: 27, Validation Loss: 1.031\n"
          ]
        },
        {
          "data": {
            "application/vnd.jupyter.widget-view+json": {
              "model_id": "b9f34130cd2f427d8b36247ec3b61e30",
              "version_major": 2,
              "version_minor": 0
            },
            "text/plain": [
              "0it [00:00, ?it/s]"
            ]
          },
          "metadata": {},
          "output_type": "display_data"
        },
        {
          "name": "stdout",
          "output_type": "stream",
          "text": [
            "Epoch: 28, Training Loss: 0.848\n",
            "Epoch: 28, Validation Loss: 1.014\n"
          ]
        },
        {
          "data": {
            "application/vnd.jupyter.widget-view+json": {
              "model_id": "e8ffc5b703304b57bbdf672618781a04",
              "version_major": 2,
              "version_minor": 0
            },
            "text/plain": [
              "0it [00:00, ?it/s]"
            ]
          },
          "metadata": {},
          "output_type": "display_data"
        },
        {
          "name": "stdout",
          "output_type": "stream",
          "text": [
            "Epoch: 29, Training Loss: 0.838\n",
            "Epoch: 29, Validation Loss: 1.059\n"
          ]
        },
        {
          "data": {
            "application/vnd.jupyter.widget-view+json": {
              "model_id": "fbb73f35be2d4acd846f0097ebf4aa7d",
              "version_major": 2,
              "version_minor": 0
            },
            "text/plain": [
              "0it [00:00, ?it/s]"
            ]
          },
          "metadata": {},
          "output_type": "display_data"
        },
        {
          "name": "stdout",
          "output_type": "stream",
          "text": [
            "Epoch: 30, Training Loss: 0.837\n",
            "Epoch: 30, Validation Loss: 1.284\n"
          ]
        },
        {
          "data": {
            "application/vnd.jupyter.widget-view+json": {
              "model_id": "5d11d653a5da4af787fbebf882cf4191",
              "version_major": 2,
              "version_minor": 0
            },
            "text/plain": [
              "0it [00:00, ?it/s]"
            ]
          },
          "metadata": {},
          "output_type": "display_data"
        },
        {
          "name": "stdout",
          "output_type": "stream",
          "text": [
            "Epoch: 31, Training Loss: 0.826\n",
            "Epoch: 31, Validation Loss: 0.993\n"
          ]
        },
        {
          "data": {
            "application/vnd.jupyter.widget-view+json": {
              "model_id": "710491fcc3a8471494bf58afc9498ef3",
              "version_major": 2,
              "version_minor": 0
            },
            "text/plain": [
              "0it [00:00, ?it/s]"
            ]
          },
          "metadata": {},
          "output_type": "display_data"
        },
        {
          "name": "stdout",
          "output_type": "stream",
          "text": [
            "Epoch: 32, Training Loss: 0.869\n",
            "Epoch: 32, Validation Loss: 1.013\n"
          ]
        },
        {
          "data": {
            "application/vnd.jupyter.widget-view+json": {
              "model_id": "a666714287c04416942ebb41c2bdfa12",
              "version_major": 2,
              "version_minor": 0
            },
            "text/plain": [
              "0it [00:00, ?it/s]"
            ]
          },
          "metadata": {},
          "output_type": "display_data"
        },
        {
          "name": "stdout",
          "output_type": "stream",
          "text": [
            "Epoch: 33, Training Loss: 0.805\n",
            "Epoch: 33, Validation Loss: 0.985\n"
          ]
        },
        {
          "data": {
            "application/vnd.jupyter.widget-view+json": {
              "model_id": "72c12dddd4b6465bbffa188dba1dad0f",
              "version_major": 2,
              "version_minor": 0
            },
            "text/plain": [
              "0it [00:00, ?it/s]"
            ]
          },
          "metadata": {},
          "output_type": "display_data"
        },
        {
          "name": "stdout",
          "output_type": "stream",
          "text": [
            "Epoch: 34, Training Loss: 0.822\n",
            "Epoch: 34, Validation Loss: 1.218\n"
          ]
        },
        {
          "data": {
            "application/vnd.jupyter.widget-view+json": {
              "model_id": "b2a26747fa6743268e4447f382720b91",
              "version_major": 2,
              "version_minor": 0
            },
            "text/plain": [
              "0it [00:00, ?it/s]"
            ]
          },
          "metadata": {},
          "output_type": "display_data"
        },
        {
          "name": "stdout",
          "output_type": "stream",
          "text": [
            "Epoch: 35, Training Loss: 0.827\n",
            "Epoch: 35, Validation Loss: 0.877\n"
          ]
        },
        {
          "data": {
            "application/vnd.jupyter.widget-view+json": {
              "model_id": "ab46853ee6c24d5fbdbb2c796e00d830",
              "version_major": 2,
              "version_minor": 0
            },
            "text/plain": [
              "0it [00:00, ?it/s]"
            ]
          },
          "metadata": {},
          "output_type": "display_data"
        },
        {
          "name": "stdout",
          "output_type": "stream",
          "text": [
            "Epoch: 36, Training Loss: 0.807\n",
            "Epoch: 36, Validation Loss: 1.155\n"
          ]
        },
        {
          "data": {
            "application/vnd.jupyter.widget-view+json": {
              "model_id": "4baa661860e8428e9b0c3e1a06796b22",
              "version_major": 2,
              "version_minor": 0
            },
            "text/plain": [
              "0it [00:00, ?it/s]"
            ]
          },
          "metadata": {},
          "output_type": "display_data"
        },
        {
          "name": "stdout",
          "output_type": "stream",
          "text": [
            "Epoch: 37, Training Loss: 0.802\n",
            "Epoch: 37, Validation Loss: 0.995\n"
          ]
        },
        {
          "data": {
            "application/vnd.jupyter.widget-view+json": {
              "model_id": "a3fcf1e1aa43423bb65c7a63529b4e40",
              "version_major": 2,
              "version_minor": 0
            },
            "text/plain": [
              "0it [00:00, ?it/s]"
            ]
          },
          "metadata": {},
          "output_type": "display_data"
        },
        {
          "name": "stdout",
          "output_type": "stream",
          "text": [
            "Epoch: 38, Training Loss: 0.793\n",
            "Epoch: 38, Validation Loss: 1.134\n"
          ]
        },
        {
          "data": {
            "application/vnd.jupyter.widget-view+json": {
              "model_id": "7a5ca9d8b3744599a8b81ebba14705e4",
              "version_major": 2,
              "version_minor": 0
            },
            "text/plain": [
              "0it [00:00, ?it/s]"
            ]
          },
          "metadata": {},
          "output_type": "display_data"
        },
        {
          "name": "stdout",
          "output_type": "stream",
          "text": [
            "Epoch: 39, Training Loss: 0.781\n",
            "Epoch: 39, Validation Loss: 0.886\n"
          ]
        },
        {
          "data": {
            "application/vnd.jupyter.widget-view+json": {
              "model_id": "cec121d54f064c0b8071e5b2a77f2725",
              "version_major": 2,
              "version_minor": 0
            },
            "text/plain": [
              "0it [00:00, ?it/s]"
            ]
          },
          "metadata": {},
          "output_type": "display_data"
        },
        {
          "name": "stdout",
          "output_type": "stream",
          "text": [
            "Epoch: 40, Training Loss: 0.806\n",
            "Epoch: 40, Validation Loss: 0.992\n"
          ]
        },
        {
          "data": {
            "application/vnd.jupyter.widget-view+json": {
              "model_id": "911606b1692a4ceab9e3061e737d0a37",
              "version_major": 2,
              "version_minor": 0
            },
            "text/plain": [
              "0it [00:00, ?it/s]"
            ]
          },
          "metadata": {},
          "output_type": "display_data"
        },
        {
          "name": "stdout",
          "output_type": "stream",
          "text": [
            "Epoch: 41, Training Loss: 0.795\n",
            "Epoch: 41, Validation Loss: 0.842\n"
          ]
        },
        {
          "data": {
            "application/vnd.jupyter.widget-view+json": {
              "model_id": "45135110d9a1447f824f8c6bba18849a",
              "version_major": 2,
              "version_minor": 0
            },
            "text/plain": [
              "0it [00:00, ?it/s]"
            ]
          },
          "metadata": {},
          "output_type": "display_data"
        },
        {
          "name": "stdout",
          "output_type": "stream",
          "text": [
            "Epoch: 42, Training Loss: 0.765\n",
            "Epoch: 42, Validation Loss: 0.845\n"
          ]
        },
        {
          "data": {
            "application/vnd.jupyter.widget-view+json": {
              "model_id": "9d803cd1754b412b89dfc8b040be558a",
              "version_major": 2,
              "version_minor": 0
            },
            "text/plain": [
              "0it [00:00, ?it/s]"
            ]
          },
          "metadata": {},
          "output_type": "display_data"
        },
        {
          "name": "stdout",
          "output_type": "stream",
          "text": [
            "Epoch: 43, Training Loss: 0.739\n",
            "Epoch: 43, Validation Loss: 0.886\n"
          ]
        },
        {
          "data": {
            "application/vnd.jupyter.widget-view+json": {
              "model_id": "dcf32d0aa3d546c3be9d7e5b55cb1288",
              "version_major": 2,
              "version_minor": 0
            },
            "text/plain": [
              "0it [00:00, ?it/s]"
            ]
          },
          "metadata": {},
          "output_type": "display_data"
        },
        {
          "name": "stdout",
          "output_type": "stream",
          "text": [
            "Epoch: 44, Training Loss: 0.742\n",
            "Epoch: 44, Validation Loss: 0.811\n"
          ]
        },
        {
          "data": {
            "application/vnd.jupyter.widget-view+json": {
              "model_id": "c26584ed5f7b4f5fb6fc57def99195d3",
              "version_major": 2,
              "version_minor": 0
            },
            "text/plain": [
              "0it [00:00, ?it/s]"
            ]
          },
          "metadata": {},
          "output_type": "display_data"
        },
        {
          "name": "stdout",
          "output_type": "stream",
          "text": [
            "Epoch: 45, Training Loss: 0.758\n",
            "Epoch: 45, Validation Loss: 1.282\n"
          ]
        },
        {
          "data": {
            "application/vnd.jupyter.widget-view+json": {
              "model_id": "dd7c43a52e0749ef90e264bca47d62f4",
              "version_major": 2,
              "version_minor": 0
            },
            "text/plain": [
              "0it [00:00, ?it/s]"
            ]
          },
          "metadata": {},
          "output_type": "display_data"
        },
        {
          "name": "stdout",
          "output_type": "stream",
          "text": [
            "Epoch: 46, Training Loss: 0.779\n",
            "Epoch: 46, Validation Loss: 1.083\n"
          ]
        },
        {
          "data": {
            "application/vnd.jupyter.widget-view+json": {
              "model_id": "e4451471f94a47a0a6f37a1a0ae32087",
              "version_major": 2,
              "version_minor": 0
            },
            "text/plain": [
              "0it [00:00, ?it/s]"
            ]
          },
          "metadata": {},
          "output_type": "display_data"
        },
        {
          "name": "stdout",
          "output_type": "stream",
          "text": [
            "Epoch: 47, Training Loss: 0.764\n",
            "Epoch: 47, Validation Loss: 0.952\n"
          ]
        },
        {
          "data": {
            "application/vnd.jupyter.widget-view+json": {
              "model_id": "aab11900c04949eeba117bd44550ccc2",
              "version_major": 2,
              "version_minor": 0
            },
            "text/plain": [
              "0it [00:00, ?it/s]"
            ]
          },
          "metadata": {},
          "output_type": "display_data"
        },
        {
          "name": "stdout",
          "output_type": "stream",
          "text": [
            "Epoch: 48, Training Loss: 0.755\n",
            "Epoch: 48, Validation Loss: 0.853\n"
          ]
        },
        {
          "data": {
            "application/vnd.jupyter.widget-view+json": {
              "model_id": "d69e7cdc8388458ca83ca565e112c9b0",
              "version_major": 2,
              "version_minor": 0
            },
            "text/plain": [
              "0it [00:00, ?it/s]"
            ]
          },
          "metadata": {},
          "output_type": "display_data"
        },
        {
          "name": "stdout",
          "output_type": "stream",
          "text": [
            "Epoch: 49, Training Loss: 0.765\n",
            "Epoch: 49, Validation Loss: 1.046\n"
          ]
        },
        {
          "data": {
            "application/vnd.jupyter.widget-view+json": {
              "model_id": "d2c9aaf2eb7b46759f948b063f21d1cf",
              "version_major": 2,
              "version_minor": 0
            },
            "text/plain": [
              "0it [00:00, ?it/s]"
            ]
          },
          "metadata": {},
          "output_type": "display_data"
        },
        {
          "name": "stdout",
          "output_type": "stream",
          "text": [
            "Epoch: 50, Training Loss: 0.761\n",
            "Epoch: 50, Validation Loss: 1.084\n"
          ]
        },
        {
          "data": {
            "application/vnd.jupyter.widget-view+json": {
              "model_id": "d8524bde745e4d999f999dd9da0201bf",
              "version_major": 2,
              "version_minor": 0
            },
            "text/plain": [
              "0it [00:00, ?it/s]"
            ]
          },
          "metadata": {},
          "output_type": "display_data"
        },
        {
          "name": "stdout",
          "output_type": "stream",
          "text": [
            "Epoch: 51, Training Loss: 0.722\n",
            "Epoch: 51, Validation Loss: 0.915\n"
          ]
        },
        {
          "data": {
            "application/vnd.jupyter.widget-view+json": {
              "model_id": "076f078cb0834dd3b7af91e5d187f509",
              "version_major": 2,
              "version_minor": 0
            },
            "text/plain": [
              "0it [00:00, ?it/s]"
            ]
          },
          "metadata": {},
          "output_type": "display_data"
        },
        {
          "name": "stdout",
          "output_type": "stream",
          "text": [
            "Epoch: 52, Training Loss: 0.762\n",
            "Epoch: 52, Validation Loss: 1.089\n"
          ]
        },
        {
          "data": {
            "application/vnd.jupyter.widget-view+json": {
              "model_id": "9d517952334a45f599198ecae6d2be41",
              "version_major": 2,
              "version_minor": 0
            },
            "text/plain": [
              "0it [00:00, ?it/s]"
            ]
          },
          "metadata": {},
          "output_type": "display_data"
        },
        {
          "name": "stdout",
          "output_type": "stream",
          "text": [
            "Epoch: 53, Training Loss: 0.719\n",
            "Epoch: 53, Validation Loss: 0.792\n"
          ]
        },
        {
          "data": {
            "application/vnd.jupyter.widget-view+json": {
              "model_id": "52d07e5857d648f284060289bc3abae1",
              "version_major": 2,
              "version_minor": 0
            },
            "text/plain": [
              "0it [00:00, ?it/s]"
            ]
          },
          "metadata": {},
          "output_type": "display_data"
        },
        {
          "name": "stdout",
          "output_type": "stream",
          "text": [
            "Epoch: 54, Training Loss: 0.724\n",
            "Epoch: 54, Validation Loss: 1.169\n"
          ]
        },
        {
          "data": {
            "application/vnd.jupyter.widget-view+json": {
              "model_id": "73dd2a09838e438f92d15d6184aafecc",
              "version_major": 2,
              "version_minor": 0
            },
            "text/plain": [
              "0it [00:00, ?it/s]"
            ]
          },
          "metadata": {},
          "output_type": "display_data"
        },
        {
          "name": "stdout",
          "output_type": "stream",
          "text": [
            "Epoch: 55, Training Loss: 0.728\n",
            "Epoch: 55, Validation Loss: 0.834\n"
          ]
        },
        {
          "data": {
            "application/vnd.jupyter.widget-view+json": {
              "model_id": "722a3133cc894e2db5a42cbe88dbe1bc",
              "version_major": 2,
              "version_minor": 0
            },
            "text/plain": [
              "0it [00:00, ?it/s]"
            ]
          },
          "metadata": {},
          "output_type": "display_data"
        },
        {
          "name": "stdout",
          "output_type": "stream",
          "text": [
            "Epoch: 56, Training Loss: 0.712\n",
            "Epoch: 56, Validation Loss: 0.864\n"
          ]
        },
        {
          "data": {
            "application/vnd.jupyter.widget-view+json": {
              "model_id": "d22533e68c8d4c1a95cd3d8d85e13166",
              "version_major": 2,
              "version_minor": 0
            },
            "text/plain": [
              "0it [00:00, ?it/s]"
            ]
          },
          "metadata": {},
          "output_type": "display_data"
        },
        {
          "name": "stdout",
          "output_type": "stream",
          "text": [
            "Epoch: 57, Training Loss: 0.691\n",
            "Epoch: 57, Validation Loss: 0.955\n"
          ]
        },
        {
          "data": {
            "application/vnd.jupyter.widget-view+json": {
              "model_id": "58518736c3944ee1b4c67539ea6c9b6d",
              "version_major": 2,
              "version_minor": 0
            },
            "text/plain": [
              "0it [00:00, ?it/s]"
            ]
          },
          "metadata": {},
          "output_type": "display_data"
        },
        {
          "name": "stdout",
          "output_type": "stream",
          "text": [
            "Epoch: 58, Training Loss: 0.729\n",
            "Epoch: 58, Validation Loss: 0.909\n"
          ]
        },
        {
          "data": {
            "application/vnd.jupyter.widget-view+json": {
              "model_id": "473137b464fe4eecb4fa36913e6eee30",
              "version_major": 2,
              "version_minor": 0
            },
            "text/plain": [
              "0it [00:00, ?it/s]"
            ]
          },
          "metadata": {},
          "output_type": "display_data"
        },
        {
          "name": "stdout",
          "output_type": "stream",
          "text": [
            "Epoch: 59, Training Loss: 0.680\n",
            "Epoch: 59, Validation Loss: 0.869\n"
          ]
        },
        {
          "data": {
            "application/vnd.jupyter.widget-view+json": {
              "model_id": "7629dc24e71e4f76aa6fca384f8ce320",
              "version_major": 2,
              "version_minor": 0
            },
            "text/plain": [
              "0it [00:00, ?it/s]"
            ]
          },
          "metadata": {},
          "output_type": "display_data"
        },
        {
          "name": "stdout",
          "output_type": "stream",
          "text": [
            "Epoch: 60, Training Loss: 0.687\n",
            "Epoch: 60, Validation Loss: 0.962\n"
          ]
        },
        {
          "data": {
            "image/png": "[encoded data removed]",
            "text/plain": [
              "<Figure size 432x288 with 1 Axes>"
            ]
          },
          "metadata": {
            "needs_background": "light"
          },
          "output_type": "display_data"
        },
        {
          "name": "stdout",
          "output_type": "stream",
          "text": [
            "Validating...2400.0333333333335\r"
          ]
        },
        {
          "data": {
            "image/png": "[encoded data removed]",
            "text/plain": [
              "<Figure size 432x288 with 2 Axes>"
            ]
          },
          "metadata": {
            "needs_background": "light"
          },
          "output_type": "display_data"
        },
        {
          "name": "stdout",
          "output_type": "stream",
          "text": [
            "                 sky: AP: 0.76, IoU: 0.48\n",
            "                tree: AP: 0.77, IoU: 0.82\n",
            "                road: AP: 0.93, IoU: 0.76\n",
            "               grass: AP: 0.79, IoU: 0.76\n",
            "               water: AP: 0.43, IoU: 0.56\n",
            "            building: AP: 0.80, IoU: 0.68\n",
            "            mountain: AP: 0.24, IoU: 0.02\n",
            "          foreground: AP: 0.48, IoU: 0.71\n",
            "                misc: AP: 0.01, IoU: 0.00\n",
            "                mean: AP: 0.58, IoU: 0.53\n"
          ]
        }
      ],
      "source": [
        "model_unet = UNet().to(device)\n",
        "lr = 0.001\n",
        "optimizer = optim.AdamW(model_unet.parameters(), lr=lr, weight_decay=0.01)\n",
        "training_loop(model=model_unet,\n",
        "              optimizer=optimizer,\n",
        "              trainloader=dataloader,\n",
        "              device=device,\n",
        "              criterion=cross_entropy_criterion,\n",
        "              class_weights=class_weights,\n",
        "              valloader=val_dataloader,\n",
        "              epochs=60)\n",
        "\n",
        "preds, gts = validate_model(val_loader=val_dataloader,\n",
        "                            model=model_unet,\n",
        "                            classes=classes,\n",
        "                            device=device,\n",
        "                            show_matrix=True)"
      ]
    },
    {
      "cell_type": "markdown",
      "metadata": {
        "id": "BPtyNZXnz4wF"
      },
      "source": [
        "Make sure to report the results for both models. "
      ]
    },
    {
      "cell_type": "markdown",
      "metadata": {
        "id": "1Vl9LrgBXgQ5"
      },
      "source": [
        "## Working off a pretrained model (Q7)\n",
        "\n",
        "Finally, you will now modify a pretrained model (resnet18) and use it as an initialization for training. You should be able to get better results with this model than before.\n",
        "\n",
        "You can finetune (meaning backpropagate through the resnet layers) or not. You can finetune just some layers and not others. It's up to you.\n",
        "\n",
        "**PDF: in your pdf report the final accuracy of your model based on a pretrained model. Describe how you used the pretrained model, which features did you extract and why?**"
      ]
    },
    {
      "cell_type": "code",
      "execution_count": null,
      "metadata": {
        "id": "dZiaaE0RAjkl"
      },
      "outputs": [],
      "source": [
        "class ResNetBackboneUNet(nn.Module):\n",
        "    \"\"\"\n",
        "    In this implementation we will be swapping out the Encoder Backbone\n",
        "    with a pretrained ResNet18\n",
        "    \"\"\"\n",
        "    def __init__(self, num_classes=9):\n",
        "        super(ResNetBackboneUNet, self).__init__()\n",
        "\n",
        "        ### RESNET ENCODER ###\n",
        "        pretrained_resnet = models.resnet18(pretrained=True)\n",
        "        self.resnet_features = nn.Sequential(*list(pretrained_resnet.children())[:-2])\n",
        "\n",
        "        ### DECODER ###\n",
        "        self.features = [512,256,256,128,128,64]\n",
        "        self.decoder = nn.ModuleList()\n",
        "\n",
        "        for idx in range(len(self.features) - 1):\n",
        "            self.decoder.append(\n",
        "                nn.ModuleList([\n",
        "                    nn.ConvTranspose2d(\n",
        "                        ### TRANSPOSE FROM DOUBLE CHANNELS TO SINGLE\n",
        "                        in_channels=self.features[idx],\n",
        "                        out_channels=self.features[idx + 1],\n",
        "                        kernel_size=(2, 2),\n",
        "                        stride=(2, 2)),\n",
        "                    ConvBlock(\n",
        "                        ### DOUBLE CHANNELS FROM SKIP CAT\n",
        "                        in_channels=self.features[idx + 1],\n",
        "                        out_channels=self.features[idx + 1])\n",
        "                ])\n",
        "            )\n",
        "\n",
        "        self.match_class_conv = nn.Conv2d(self.features[-1],\n",
        "                                          out_channels=num_classes,\n",
        "                                          kernel_size=(1, 1))\n",
        "    def forward(self, x):\n",
        "        ### RESNET ENCODE ###\n",
        "        x = self.resnet_features(x)\n",
        "\n",
        "        ### DECODER ###\n",
        "        for idx, (transpose, block) in enumerate(self.decoder):\n",
        "            x = transpose(x)\n",
        "            x = block(x)\n",
        "\n",
        "        ### OUTPUT TO NUM CLASSES ###\n",
        "        x = self.match_class_conv(x)\n",
        "        return x\n"
      ]
    },
    {
      "cell_type": "code",
      "execution_count": null,
      "metadata": {
        "id": "rqek-1wl2WGQ",
        "colab": {
          "referenced_widgets": [
            "7629adcb60464dec87974238ece64d9f",
            "5d64fac57092455a83f9aacedb38a9dc",
            "b8cb3386ee5f4086a0ca9ebdcfc1ef50",
            "21466b4a5d204794a323154357b10574",
            "b43892d183f04516a151fc9f3b73bc20",
            "fb20dab735894639af4f16023fcef3d3",
            "7c395e6df168449293096055703046b0",
            "145430c555054256a435bad8af824d97",
            "90fca6b90e1e46319d00e327e83d5236",
            "c96595ef384949068a2e60a41b94bea6",
            "e657bccf8ba84cdf90cc3a0add5719b6",
            "e4614a91a61b4e078ca84a800ea7f4f3",
            "52acdc9fe3fe453ea84be46fb35fd57c",
            "4502f422ceff489e97f649f84028e222",
            "dab9f8c5a04c463aa82a969c9fa624f2",
            "7ba104a42a994e9ba4326c7a85fd1c5b",
            "b3832a306e494cb58a2430913cc5fe97",
            "21a5946accfc49aeaff60b30a40698ac",
            "ff88e36249194e06aa17e7cbda493d97",
            "a7a69b77b66349828a336d00327f77da",
            "1b91aaaaf3714ce5b0980e8ccb8d699c",
            "fee5aef3f4e64175ba213b1ff32113f8",
            "f74c068e1d504acba3a608a56539f92d",
            "8f345d5498034376aceab117a609664b",
            "7b0f3c87c66848598d3428fe71e6f537",
            "50e12dbaaa234379b607e0ebee49339f",
            "7cbbb8c7d6b24b14965621f39974f9b1",
            "bcbb2f082a6244b39115af4509f44ba6",
            "262e44e3d16440ecbde266cb5673c0c5",
            "3848498fbb6c4e1ab723fa4a3b83f48e",
            "f3c609073b044dfd92056fc3fa24dd16",
            "455bafa93fc24bc5bcee59629692b956",
            "6a741808952d422f90ce6e1e49338e92",
            "c29a0a4a06a54462a79e86c3cdac69cf",
            "539a1771f17145cdbf227cf1d04f2dc7",
            "2ff8fe13e60c4e39a75830a36f761010",
            "6e8a06153da6475a97d748f0a659fa92",
            "eacb27a389314a71baea5bacb9109a27",
            "06e21a70c6654942b0c9cff45ba2072b",
            "04717777870c40339f30de889683e0e7",
            "395e51e855b249f996ea629daee77f2b",
            "d1969cdf8f0647b69efd3b418f9eae7a",
            "6efd9a2c75334586a3072be63401815d",
            "20154e708043406ba132915851829ad5",
            "52d6c9131ffe468fb716aa5d4161cdc8",
            "9a7e811bc251403cb17fb8ad05250b6a",
            "1a4dd6f71695476da83c0a002a52e7ef",
            "ec44b63da01e4c6b8975957f51735680",
            "79a5a8aff3f04f7f959ecff0fa1796f1",
            "132d1d94096d4f1ea05093e0feac610e",
            "041bc93b8eda4290b15fc96619f1d834",
            "5b0771e746584015959965266f3ccd66",
            "28e4472b70054a379c2e9b69926a158e",
            "5d4c74e92fc94de09a99e3b20d378707",
            "49e44b9173f44f0aae15e9c68211c38b",
            "3638f017cc3c4603a475997ea3a28529",
            "c973e96d5a044e19bc78bf024cf06da8",
            "2baa1b5f90914d0d9ba6044ea1d528c1",
            "22f746ea21c24925b3b335fc945a8de1",
            "5cbc113fb79c49e4b46ebf7ffe673963",
            "dc613a2bc5204483ad007bc86f95bd72"
          ]
        },
        "outputId": "2d0f23a4-e728-4c9a-deb7-85163f5d2007"
      },
      "outputs": [
        {
          "data": {
            "application/vnd.jupyter.widget-view+json": {
              "model_id": "7629adcb60464dec87974238ece64d9f",
              "version_major": 2,
              "version_minor": 0
            },
            "text/plain": [
              "  0%|          | 0/60 [00:00<?, ?it/s]"
            ]
          },
          "metadata": {},
          "output_type": "display_data"
        },
        {
          "data": {
            "application/vnd.jupyter.widget-view+json": {
              "model_id": "5d64fac57092455a83f9aacedb38a9dc",
              "version_major": 2,
              "version_minor": 0
            },
            "text/plain": [
              "0it [00:00, ?it/s]"
            ]
          },
          "metadata": {},
          "output_type": "display_data"
        },
        {
          "name": "stdout",
          "output_type": "stream",
          "text": [
            "Epoch: 1, Training Loss: 1.970\n",
            "Epoch: 1, Validation Loss: 2.339\n"
          ]
        },
        {
          "data": {
            "application/vnd.jupyter.widget-view+json": {
              "model_id": "b8cb3386ee5f4086a0ca9ebdcfc1ef50",
              "version_major": 2,
              "version_minor": 0
            },
            "text/plain": [
              "0it [00:00, ?it/s]"
            ]
          },
          "metadata": {},
          "output_type": "display_data"
        },
        {
          "name": "stdout",
          "output_type": "stream",
          "text": [
            "Epoch: 2, Training Loss: 1.574\n",
            "Epoch: 2, Validation Loss: 2.164\n"
          ]
        },
        {
          "data": {
            "application/vnd.jupyter.widget-view+json": {
              "model_id": "21466b4a5d204794a323154357b10574",
              "version_major": 2,
              "version_minor": 0
            },
            "text/plain": [
              "0it [00:00, ?it/s]"
            ]
          },
          "metadata": {},
          "output_type": "display_data"
        },
        {
          "name": "stdout",
          "output_type": "stream",
          "text": [
            "Epoch: 3, Training Loss: 1.336\n",
            "Epoch: 3, Validation Loss: 1.522\n"
          ]
        },
        {
          "data": {
            "application/vnd.jupyter.widget-view+json": {
              "model_id": "b43892d183f04516a151fc9f3b73bc20",
              "version_major": 2,
              "version_minor": 0
            },
            "text/plain": [
              "0it [00:00, ?it/s]"
            ]
          },
          "metadata": {},
          "output_type": "display_data"
        },
        {
          "name": "stdout",
          "output_type": "stream",
          "text": [
            "Epoch: 4, Training Loss: 1.266\n",
            "Epoch: 4, Validation Loss: 2.009\n"
          ]
        },
        {
          "data": {
            "application/vnd.jupyter.widget-view+json": {
              "model_id": "fb20dab735894639af4f16023fcef3d3",
              "version_major": 2,
              "version_minor": 0
            },
            "text/plain": [
              "0it [00:00, ?it/s]"
            ]
          },
          "metadata": {},
          "output_type": "display_data"
        },
        {
          "name": "stdout",
          "output_type": "stream",
          "text": [
            "Epoch: 5, Training Loss: 1.141\n",
            "Epoch: 5, Validation Loss: 1.605\n"
          ]
        },
        {
          "data": {
            "application/vnd.jupyter.widget-view+json": {
              "model_id": "7c395e6df168449293096055703046b0",
              "version_major": 2,
              "version_minor": 0
            },
            "text/plain": [
              "0it [00:00, ?it/s]"
            ]
          },
          "metadata": {},
          "output_type": "display_data"
        },
        {
          "name": "stdout",
          "output_type": "stream",
          "text": [
            "Epoch: 6, Training Loss: 1.023\n",
            "Epoch: 6, Validation Loss: 1.109\n"
          ]
        },
        {
          "data": {
            "application/vnd.jupyter.widget-view+json": {
              "model_id": "145430c555054256a435bad8af824d97",
              "version_major": 2,
              "version_minor": 0
            },
            "text/plain": [
              "0it [00:00, ?it/s]"
            ]
          },
          "metadata": {},
          "output_type": "display_data"
        },
        {
          "name": "stdout",
          "output_type": "stream",
          "text": [
            "Epoch: 7, Training Loss: 0.962\n",
            "Epoch: 7, Validation Loss: 1.143\n"
          ]
        },
        {
          "data": {
            "application/vnd.jupyter.widget-view+json": {
              "model_id": "90fca6b90e1e46319d00e327e83d5236",
              "version_major": 2,
              "version_minor": 0
            },
            "text/plain": [
              "0it [00:00, ?it/s]"
            ]
          },
          "metadata": {},
          "output_type": "display_data"
        },
        {
          "name": "stdout",
          "output_type": "stream",
          "text": [
            "Epoch: 8, Training Loss: 0.898\n",
            "Epoch: 8, Validation Loss: 1.731\n"
          ]
        },
        {
          "data": {
            "application/vnd.jupyter.widget-view+json": {
              "model_id": "c96595ef384949068a2e60a41b94bea6",
              "version_major": 2,
              "version_minor": 0
            },
            "text/plain": [
              "0it [00:00, ?it/s]"
            ]
          },
          "metadata": {},
          "output_type": "display_data"
        },
        {
          "name": "stdout",
          "output_type": "stream",
          "text": [
            "Epoch: 9, Training Loss: 0.947\n",
            "Epoch: 9, Validation Loss: 1.279\n"
          ]
        },
        {
          "data": {
            "application/vnd.jupyter.widget-view+json": {
              "model_id": "e657bccf8ba84cdf90cc3a0add5719b6",
              "version_major": 2,
              "version_minor": 0
            },
            "text/plain": [
              "0it [00:00, ?it/s]"
            ]
          },
          "metadata": {},
          "output_type": "display_data"
        },
        {
          "name": "stdout",
          "output_type": "stream",
          "text": [
            "Epoch: 10, Training Loss: 0.869\n",
            "Epoch: 10, Validation Loss: 1.010\n"
          ]
        },
        {
          "data": {
            "application/vnd.jupyter.widget-view+json": {
              "model_id": "e4614a91a61b4e078ca84a800ea7f4f3",
              "version_major": 2,
              "version_minor": 0
            },
            "text/plain": [
              "0it [00:00, ?it/s]"
            ]
          },
          "metadata": {},
          "output_type": "display_data"
        },
        {
          "name": "stdout",
          "output_type": "stream",
          "text": [
            "Epoch: 11, Training Loss: 0.844\n",
            "Epoch: 11, Validation Loss: 1.113\n"
          ]
        },
        {
          "data": {
            "application/vnd.jupyter.widget-view+json": {
              "model_id": "52acdc9fe3fe453ea84be46fb35fd57c",
              "version_major": 2,
              "version_minor": 0
            },
            "text/plain": [
              "0it [00:00, ?it/s]"
            ]
          },
          "metadata": {},
          "output_type": "display_data"
        },
        {
          "name": "stdout",
          "output_type": "stream",
          "text": [
            "Epoch: 12, Training Loss: 0.765\n",
            "Epoch: 12, Validation Loss: 0.927\n"
          ]
        },
        {
          "data": {
            "application/vnd.jupyter.widget-view+json": {
              "model_id": "4502f422ceff489e97f649f84028e222",
              "version_major": 2,
              "version_minor": 0
            },
            "text/plain": [
              "0it [00:00, ?it/s]"
            ]
          },
          "metadata": {},
          "output_type": "display_data"
        },
        {
          "name": "stdout",
          "output_type": "stream",
          "text": [
            "Epoch: 13, Training Loss: 0.774\n",
            "Epoch: 13, Validation Loss: 0.976\n"
          ]
        },
        {
          "data": {
            "application/vnd.jupyter.widget-view+json": {
              "model_id": "dab9f8c5a04c463aa82a969c9fa624f2",
              "version_major": 2,
              "version_minor": 0
            },
            "text/plain": [
              "0it [00:00, ?it/s]"
            ]
          },
          "metadata": {},
          "output_type": "display_data"
        },
        {
          "name": "stdout",
          "output_type": "stream",
          "text": [
            "Epoch: 14, Training Loss: 0.837\n",
            "Epoch: 14, Validation Loss: 1.338\n"
          ]
        },
        {
          "data": {
            "application/vnd.jupyter.widget-view+json": {
              "model_id": "7ba104a42a994e9ba4326c7a85fd1c5b",
              "version_major": 2,
              "version_minor": 0
            },
            "text/plain": [
              "0it [00:00, ?it/s]"
            ]
          },
          "metadata": {},
          "output_type": "display_data"
        },
        {
          "name": "stdout",
          "output_type": "stream",
          "text": [
            "Epoch: 15, Training Loss: 0.775\n",
            "Epoch: 15, Validation Loss: 1.130\n"
          ]
        },
        {
          "data": {
            "application/vnd.jupyter.widget-view+json": {
              "model_id": "b3832a306e494cb58a2430913cc5fe97",
              "version_major": 2,
              "version_minor": 0
            },
            "text/plain": [
              "0it [00:00, ?it/s]"
            ]
          },
          "metadata": {},
          "output_type": "display_data"
        },
        {
          "name": "stdout",
          "output_type": "stream",
          "text": [
            "Epoch: 16, Training Loss: 0.759\n",
            "Epoch: 16, Validation Loss: 0.962\n"
          ]
        },
        {
          "data": {
            "application/vnd.jupyter.widget-view+json": {
              "model_id": "21a5946accfc49aeaff60b30a40698ac",
              "version_major": 2,
              "version_minor": 0
            },
            "text/plain": [
              "0it [00:00, ?it/s]"
            ]
          },
          "metadata": {},
          "output_type": "display_data"
        },
        {
          "name": "stdout",
          "output_type": "stream",
          "text": [
            "Epoch: 17, Training Loss: 0.773\n",
            "Epoch: 17, Validation Loss: 1.037\n"
          ]
        },
        {
          "data": {
            "application/vnd.jupyter.widget-view+json": {
              "model_id": "ff88e36249194e06aa17e7cbda493d97",
              "version_major": 2,
              "version_minor": 0
            },
            "text/plain": [
              "0it [00:00, ?it/s]"
            ]
          },
          "metadata": {},
          "output_type": "display_data"
        },
        {
          "name": "stdout",
          "output_type": "stream",
          "text": [
            "Epoch: 18, Training Loss: 0.758\n",
            "Epoch: 18, Validation Loss: 1.781\n"
          ]
        },
        {
          "data": {
            "application/vnd.jupyter.widget-view+json": {
              "model_id": "a7a69b77b66349828a336d00327f77da",
              "version_major": 2,
              "version_minor": 0
            },
            "text/plain": [
              "0it [00:00, ?it/s]"
            ]
          },
          "metadata": {},
          "output_type": "display_data"
        },
        {
          "name": "stdout",
          "output_type": "stream",
          "text": [
            "Epoch: 19, Training Loss: 0.775\n",
            "Epoch: 19, Validation Loss: 1.046\n"
          ]
        },
        {
          "data": {
            "application/vnd.jupyter.widget-view+json": {
              "model_id": "1b91aaaaf3714ce5b0980e8ccb8d699c",
              "version_major": 2,
              "version_minor": 0
            },
            "text/plain": [
              "0it [00:00, ?it/s]"
            ]
          },
          "metadata": {},
          "output_type": "display_data"
        },
        {
          "name": "stdout",
          "output_type": "stream",
          "text": [
            "Epoch: 20, Training Loss: 0.762\n",
            "Epoch: 20, Validation Loss: 0.988\n"
          ]
        },
        {
          "data": {
            "application/vnd.jupyter.widget-view+json": {
              "model_id": "fee5aef3f4e64175ba213b1ff32113f8",
              "version_major": 2,
              "version_minor": 0
            },
            "text/plain": [
              "0it [00:00, ?it/s]"
            ]
          },
          "metadata": {},
          "output_type": "display_data"
        },
        {
          "name": "stdout",
          "output_type": "stream",
          "text": [
            "Epoch: 21, Training Loss: 0.726\n",
            "Epoch: 21, Validation Loss: 0.915\n"
          ]
        },
        {
          "data": {
            "application/vnd.jupyter.widget-view+json": {
              "model_id": "f74c068e1d504acba3a608a56539f92d",
              "version_major": 2,
              "version_minor": 0
            },
            "text/plain": [
              "0it [00:00, ?it/s]"
            ]
          },
          "metadata": {},
          "output_type": "display_data"
        },
        {
          "name": "stdout",
          "output_type": "stream",
          "text": [
            "Epoch: 22, Training Loss: 0.686\n",
            "Epoch: 22, Validation Loss: 1.187\n"
          ]
        },
        {
          "data": {
            "application/vnd.jupyter.widget-view+json": {
              "model_id": "8f345d5498034376aceab117a609664b",
              "version_major": 2,
              "version_minor": 0
            },
            "text/plain": [
              "0it [00:00, ?it/s]"
            ]
          },
          "metadata": {},
          "output_type": "display_data"
        },
        {
          "name": "stdout",
          "output_type": "stream",
          "text": [
            "Epoch: 23, Training Loss: 0.691\n",
            "Epoch: 23, Validation Loss: 0.859\n"
          ]
        },
        {
          "data": {
            "application/vnd.jupyter.widget-view+json": {
              "model_id": "7b0f3c87c66848598d3428fe71e6f537",
              "version_major": 2,
              "version_minor": 0
            },
            "text/plain": [
              "0it [00:00, ?it/s]"
            ]
          },
          "metadata": {},
          "output_type": "display_data"
        },
        {
          "name": "stdout",
          "output_type": "stream",
          "text": [
            "Epoch: 24, Training Loss: 0.701\n",
            "Epoch: 24, Validation Loss: 0.988\n"
          ]
        },
        {
          "data": {
            "application/vnd.jupyter.widget-view+json": {
              "model_id": "50e12dbaaa234379b607e0ebee49339f",
              "version_major": 2,
              "version_minor": 0
            },
            "text/plain": [
              "0it [00:00, ?it/s]"
            ]
          },
          "metadata": {},
          "output_type": "display_data"
        },
        {
          "name": "stdout",
          "output_type": "stream",
          "text": [
            "Epoch: 25, Training Loss: 0.650\n",
            "Epoch: 25, Validation Loss: 1.010\n"
          ]
        },
        {
          "data": {
            "application/vnd.jupyter.widget-view+json": {
              "model_id": "7cbbb8c7d6b24b14965621f39974f9b1",
              "version_major": 2,
              "version_minor": 0
            },
            "text/plain": [
              "0it [00:00, ?it/s]"
            ]
          },
          "metadata": {},
          "output_type": "display_data"
        },
        {
          "name": "stdout",
          "output_type": "stream",
          "text": [
            "Epoch: 26, Training Loss: 0.659\n",
            "Epoch: 26, Validation Loss: 1.147\n"
          ]
        },
        {
          "data": {
            "application/vnd.jupyter.widget-view+json": {
              "model_id": "bcbb2f082a6244b39115af4509f44ba6",
              "version_major": 2,
              "version_minor": 0
            },
            "text/plain": [
              "0it [00:00, ?it/s]"
            ]
          },
          "metadata": {},
          "output_type": "display_data"
        },
        {
          "name": "stdout",
          "output_type": "stream",
          "text": [
            "Epoch: 27, Training Loss: 0.662\n",
            "Epoch: 27, Validation Loss: 0.814\n"
          ]
        },
        {
          "data": {
            "application/vnd.jupyter.widget-view+json": {
              "model_id": "262e44e3d16440ecbde266cb5673c0c5",
              "version_major": 2,
              "version_minor": 0
            },
            "text/plain": [
              "0it [00:00, ?it/s]"
            ]
          },
          "metadata": {},
          "output_type": "display_data"
        },
        {
          "name": "stdout",
          "output_type": "stream",
          "text": [
            "Epoch: 28, Training Loss: 0.650\n",
            "Epoch: 28, Validation Loss: 0.974\n"
          ]
        },
        {
          "data": {
            "application/vnd.jupyter.widget-view+json": {
              "model_id": "3848498fbb6c4e1ab723fa4a3b83f48e",
              "version_major": 2,
              "version_minor": 0
            },
            "text/plain": [
              "0it [00:00, ?it/s]"
            ]
          },
          "metadata": {},
          "output_type": "display_data"
        },
        {
          "name": "stdout",
          "output_type": "stream",
          "text": [
            "Epoch: 29, Training Loss: 0.649\n",
            "Epoch: 29, Validation Loss: 0.872\n"
          ]
        },
        {
          "data": {
            "application/vnd.jupyter.widget-view+json": {
              "model_id": "f3c609073b044dfd92056fc3fa24dd16",
              "version_major": 2,
              "version_minor": 0
            },
            "text/plain": [
              "0it [00:00, ?it/s]"
            ]
          },
          "metadata": {},
          "output_type": "display_data"
        },
        {
          "name": "stdout",
          "output_type": "stream",
          "text": [
            "Epoch: 30, Training Loss: 0.703\n",
            "Epoch: 30, Validation Loss: 0.987\n"
          ]
        },
        {
          "data": {
            "application/vnd.jupyter.widget-view+json": {
              "model_id": "455bafa93fc24bc5bcee59629692b956",
              "version_major": 2,
              "version_minor": 0
            },
            "text/plain": [
              "0it [00:00, ?it/s]"
            ]
          },
          "metadata": {},
          "output_type": "display_data"
        },
        {
          "name": "stdout",
          "output_type": "stream",
          "text": [
            "Epoch: 31, Training Loss: 0.640\n",
            "Epoch: 31, Validation Loss: 0.835\n"
          ]
        },
        {
          "data": {
            "application/vnd.jupyter.widget-view+json": {
              "model_id": "6a741808952d422f90ce6e1e49338e92",
              "version_major": 2,
              "version_minor": 0
            },
            "text/plain": [
              "0it [00:00, ?it/s]"
            ]
          },
          "metadata": {},
          "output_type": "display_data"
        },
        {
          "name": "stdout",
          "output_type": "stream",
          "text": [
            "Epoch: 32, Training Loss: 0.612\n",
            "Epoch: 32, Validation Loss: 1.234\n"
          ]
        },
        {
          "data": {
            "application/vnd.jupyter.widget-view+json": {
              "model_id": "c29a0a4a06a54462a79e86c3cdac69cf",
              "version_major": 2,
              "version_minor": 0
            },
            "text/plain": [
              "0it [00:00, ?it/s]"
            ]
          },
          "metadata": {},
          "output_type": "display_data"
        },
        {
          "name": "stdout",
          "output_type": "stream",
          "text": [
            "Epoch: 33, Training Loss: 0.628\n",
            "Epoch: 33, Validation Loss: 0.972\n"
          ]
        },
        {
          "data": {
            "application/vnd.jupyter.widget-view+json": {
              "model_id": "539a1771f17145cdbf227cf1d04f2dc7",
              "version_major": 2,
              "version_minor": 0
            },
            "text/plain": [
              "0it [00:00, ?it/s]"
            ]
          },
          "metadata": {},
          "output_type": "display_data"
        },
        {
          "name": "stdout",
          "output_type": "stream",
          "text": [
            "Epoch: 34, Training Loss: 0.628\n",
            "Epoch: 34, Validation Loss: 1.029\n"
          ]
        },
        {
          "data": {
            "application/vnd.jupyter.widget-view+json": {
              "model_id": "2ff8fe13e60c4e39a75830a36f761010",
              "version_major": 2,
              "version_minor": 0
            },
            "text/plain": [
              "0it [00:00, ?it/s]"
            ]
          },
          "metadata": {},
          "output_type": "display_data"
        },
        {
          "name": "stdout",
          "output_type": "stream",
          "text": [
            "Epoch: 35, Training Loss: 0.604\n",
            "Epoch: 35, Validation Loss: 1.005\n"
          ]
        },
        {
          "data": {
            "application/vnd.jupyter.widget-view+json": {
              "model_id": "6e8a06153da6475a97d748f0a659fa92",
              "version_major": 2,
              "version_minor": 0
            },
            "text/plain": [
              "0it [00:00, ?it/s]"
            ]
          },
          "metadata": {},
          "output_type": "display_data"
        },
        {
          "name": "stdout",
          "output_type": "stream",
          "text": [
            "Epoch: 36, Training Loss: 0.602\n",
            "Epoch: 36, Validation Loss: 1.108\n"
          ]
        },
        {
          "data": {
            "application/vnd.jupyter.widget-view+json": {
              "model_id": "eacb27a389314a71baea5bacb9109a27",
              "version_major": 2,
              "version_minor": 0
            },
            "text/plain": [
              "0it [00:00, ?it/s]"
            ]
          },
          "metadata": {},
          "output_type": "display_data"
        },
        {
          "name": "stdout",
          "output_type": "stream",
          "text": [
            "Epoch: 37, Training Loss: 0.585\n",
            "Epoch: 37, Validation Loss: 0.884\n"
          ]
        },
        {
          "data": {
            "application/vnd.jupyter.widget-view+json": {
              "model_id": "06e21a70c6654942b0c9cff45ba2072b",
              "version_major": 2,
              "version_minor": 0
            },
            "text/plain": [
              "0it [00:00, ?it/s]"
            ]
          },
          "metadata": {},
          "output_type": "display_data"
        },
        {
          "name": "stdout",
          "output_type": "stream",
          "text": [
            "Epoch: 38, Training Loss: 0.594\n",
            "Epoch: 38, Validation Loss: 0.980\n"
          ]
        },
        {
          "data": {
            "application/vnd.jupyter.widget-view+json": {
              "model_id": "04717777870c40339f30de889683e0e7",
              "version_major": 2,
              "version_minor": 0
            },
            "text/plain": [
              "0it [00:00, ?it/s]"
            ]
          },
          "metadata": {},
          "output_type": "display_data"
        },
        {
          "name": "stdout",
          "output_type": "stream",
          "text": [
            "Epoch: 39, Training Loss: 0.554\n",
            "Epoch: 39, Validation Loss: 0.776\n"
          ]
        },
        {
          "data": {
            "application/vnd.jupyter.widget-view+json": {
              "model_id": "395e51e855b249f996ea629daee77f2b",
              "version_major": 2,
              "version_minor": 0
            },
            "text/plain": [
              "0it [00:00, ?it/s]"
            ]
          },
          "metadata": {},
          "output_type": "display_data"
        },
        {
          "name": "stdout",
          "output_type": "stream",
          "text": [
            "Epoch: 40, Training Loss: 0.578\n",
            "Epoch: 40, Validation Loss: 0.758\n"
          ]
        },
        {
          "data": {
            "application/vnd.jupyter.widget-view+json": {
              "model_id": "d1969cdf8f0647b69efd3b418f9eae7a",
              "version_major": 2,
              "version_minor": 0
            },
            "text/plain": [
              "0it [00:00, ?it/s]"
            ]
          },
          "metadata": {},
          "output_type": "display_data"
        },
        {
          "name": "stdout",
          "output_type": "stream",
          "text": [
            "Epoch: 41, Training Loss: 0.566\n",
            "Epoch: 41, Validation Loss: 0.887\n"
          ]
        },
        {
          "data": {
            "application/vnd.jupyter.widget-view+json": {
              "model_id": "6efd9a2c75334586a3072be63401815d",
              "version_major": 2,
              "version_minor": 0
            },
            "text/plain": [
              "0it [00:00, ?it/s]"
            ]
          },
          "metadata": {},
          "output_type": "display_data"
        },
        {
          "name": "stdout",
          "output_type": "stream",
          "text": [
            "Epoch: 42, Training Loss: 0.564\n",
            "Epoch: 42, Validation Loss: 0.749\n"
          ]
        },
        {
          "data": {
            "application/vnd.jupyter.widget-view+json": {
              "model_id": "20154e708043406ba132915851829ad5",
              "version_major": 2,
              "version_minor": 0
            },
            "text/plain": [
              "0it [00:00, ?it/s]"
            ]
          },
          "metadata": {},
          "output_type": "display_data"
        },
        {
          "name": "stdout",
          "output_type": "stream",
          "text": [
            "Epoch: 43, Training Loss: 0.545\n",
            "Epoch: 43, Validation Loss: 0.760\n"
          ]
        },
        {
          "data": {
            "application/vnd.jupyter.widget-view+json": {
              "model_id": "52d6c9131ffe468fb716aa5d4161cdc8",
              "version_major": 2,
              "version_minor": 0
            },
            "text/plain": [
              "0it [00:00, ?it/s]"
            ]
          },
          "metadata": {},
          "output_type": "display_data"
        },
        {
          "name": "stdout",
          "output_type": "stream",
          "text": [
            "Epoch: 44, Training Loss: 0.547\n",
            "Epoch: 44, Validation Loss: 0.945\n"
          ]
        },
        {
          "data": {
            "application/vnd.jupyter.widget-view+json": {
              "model_id": "9a7e811bc251403cb17fb8ad05250b6a",
              "version_major": 2,
              "version_minor": 0
            },
            "text/plain": [
              "0it [00:00, ?it/s]"
            ]
          },
          "metadata": {},
          "output_type": "display_data"
        },
        {
          "name": "stdout",
          "output_type": "stream",
          "text": [
            "Epoch: 45, Training Loss: 0.558\n",
            "Epoch: 45, Validation Loss: 0.802\n"
          ]
        },
        {
          "data": {
            "application/vnd.jupyter.widget-view+json": {
              "model_id": "1a4dd6f71695476da83c0a002a52e7ef",
              "version_major": 2,
              "version_minor": 0
            },
            "text/plain": [
              "0it [00:00, ?it/s]"
            ]
          },
          "metadata": {},
          "output_type": "display_data"
        },
        {
          "name": "stdout",
          "output_type": "stream",
          "text": [
            "Epoch: 46, Training Loss: 0.526\n",
            "Epoch: 46, Validation Loss: 0.972\n"
          ]
        },
        {
          "data": {
            "application/vnd.jupyter.widget-view+json": {
              "model_id": "ec44b63da01e4c6b8975957f51735680",
              "version_major": 2,
              "version_minor": 0
            },
            "text/plain": [
              "0it [00:00, ?it/s]"
            ]
          },
          "metadata": {},
          "output_type": "display_data"
        },
        {
          "name": "stdout",
          "output_type": "stream",
          "text": [
            "Epoch: 47, Training Loss: 0.525\n",
            "Epoch: 47, Validation Loss: 0.741\n"
          ]
        },
        {
          "data": {
            "application/vnd.jupyter.widget-view+json": {
              "model_id": "79a5a8aff3f04f7f959ecff0fa1796f1",
              "version_major": 2,
              "version_minor": 0
            },
            "text/plain": [
              "0it [00:00, ?it/s]"
            ]
          },
          "metadata": {},
          "output_type": "display_data"
        },
        {
          "name": "stdout",
          "output_type": "stream",
          "text": [
            "Epoch: 48, Training Loss: 0.529\n",
            "Epoch: 48, Validation Loss: 0.819\n"
          ]
        },
        {
          "data": {
            "application/vnd.jupyter.widget-view+json": {
              "model_id": "132d1d94096d4f1ea05093e0feac610e",
              "version_major": 2,
              "version_minor": 0
            },
            "text/plain": [
              "0it [00:00, ?it/s]"
            ]
          },
          "metadata": {},
          "output_type": "display_data"
        },
        {
          "name": "stdout",
          "output_type": "stream",
          "text": [
            "Epoch: 49, Training Loss: 0.561\n",
            "Epoch: 49, Validation Loss: 0.790\n"
          ]
        },
        {
          "data": {
            "application/vnd.jupyter.widget-view+json": {
              "model_id": "041bc93b8eda4290b15fc96619f1d834",
              "version_major": 2,
              "version_minor": 0
            },
            "text/plain": [
              "0it [00:00, ?it/s]"
            ]
          },
          "metadata": {},
          "output_type": "display_data"
        },
        {
          "name": "stdout",
          "output_type": "stream",
          "text": [
            "Epoch: 50, Training Loss: 0.539\n",
            "Epoch: 50, Validation Loss: 0.729\n"
          ]
        },
        {
          "data": {
            "application/vnd.jupyter.widget-view+json": {
              "model_id": "5b0771e746584015959965266f3ccd66",
              "version_major": 2,
              "version_minor": 0
            },
            "text/plain": [
              "0it [00:00, ?it/s]"
            ]
          },
          "metadata": {},
          "output_type": "display_data"
        },
        {
          "name": "stdout",
          "output_type": "stream",
          "text": [
            "Epoch: 51, Training Loss: 0.524\n",
            "Epoch: 51, Validation Loss: 0.885\n"
          ]
        },
        {
          "data": {
            "application/vnd.jupyter.widget-view+json": {
              "model_id": "28e4472b70054a379c2e9b69926a158e",
              "version_major": 2,
              "version_minor": 0
            },
            "text/plain": [
              "0it [00:00, ?it/s]"
            ]
          },
          "metadata": {},
          "output_type": "display_data"
        },
        {
          "name": "stdout",
          "output_type": "stream",
          "text": [
            "Epoch: 52, Training Loss: 0.530\n",
            "Epoch: 52, Validation Loss: 0.737\n"
          ]
        },
        {
          "data": {
            "application/vnd.jupyter.widget-view+json": {
              "model_id": "5d4c74e92fc94de09a99e3b20d378707",
              "version_major": 2,
              "version_minor": 0
            },
            "text/plain": [
              "0it [00:00, ?it/s]"
            ]
          },
          "metadata": {},
          "output_type": "display_data"
        },
        {
          "name": "stdout",
          "output_type": "stream",
          "text": [
            "Epoch: 53, Training Loss: 0.501\n",
            "Epoch: 53, Validation Loss: 0.692\n"
          ]
        },
        {
          "data": {
            "application/vnd.jupyter.widget-view+json": {
              "model_id": "49e44b9173f44f0aae15e9c68211c38b",
              "version_major": 2,
              "version_minor": 0
            },
            "text/plain": [
              "0it [00:00, ?it/s]"
            ]
          },
          "metadata": {},
          "output_type": "display_data"
        },
        {
          "name": "stdout",
          "output_type": "stream",
          "text": [
            "Epoch: 54, Training Loss: 0.487\n",
            "Epoch: 54, Validation Loss: 0.854\n"
          ]
        },
        {
          "data": {
            "application/vnd.jupyter.widget-view+json": {
              "model_id": "3638f017cc3c4603a475997ea3a28529",
              "version_major": 2,
              "version_minor": 0
            },
            "text/plain": [
              "0it [00:00, ?it/s]"
            ]
          },
          "metadata": {},
          "output_type": "display_data"
        },
        {
          "name": "stdout",
          "output_type": "stream",
          "text": [
            "Epoch: 55, Training Loss: 0.472\n",
            "Epoch: 55, Validation Loss: 0.752\n"
          ]
        },
        {
          "data": {
            "application/vnd.jupyter.widget-view+json": {
              "model_id": "c973e96d5a044e19bc78bf024cf06da8",
              "version_major": 2,
              "version_minor": 0
            },
            "text/plain": [
              "0it [00:00, ?it/s]"
            ]
          },
          "metadata": {},
          "output_type": "display_data"
        },
        {
          "name": "stdout",
          "output_type": "stream",
          "text": [
            "Epoch: 56, Training Loss: 0.493\n",
            "Epoch: 56, Validation Loss: 0.714\n"
          ]
        },
        {
          "data": {
            "application/vnd.jupyter.widget-view+json": {
              "model_id": "2baa1b5f90914d0d9ba6044ea1d528c1",
              "version_major": 2,
              "version_minor": 0
            },
            "text/plain": [
              "0it [00:00, ?it/s]"
            ]
          },
          "metadata": {},
          "output_type": "display_data"
        },
        {
          "name": "stdout",
          "output_type": "stream",
          "text": [
            "Epoch: 57, Training Loss: 0.504\n",
            "Epoch: 57, Validation Loss: 1.153\n"
          ]
        },
        {
          "data": {
            "application/vnd.jupyter.widget-view+json": {
              "model_id": "22f746ea21c24925b3b335fc945a8de1",
              "version_major": 2,
              "version_minor": 0
            },
            "text/plain": [
              "0it [00:00, ?it/s]"
            ]
          },
          "metadata": {},
          "output_type": "display_data"
        },
        {
          "name": "stdout",
          "output_type": "stream",
          "text": [
            "Epoch: 58, Training Loss: 0.500\n",
            "Epoch: 58, Validation Loss: 0.790\n"
          ]
        },
        {
          "data": {
            "application/vnd.jupyter.widget-view+json": {
              "model_id": "5cbc113fb79c49e4b46ebf7ffe673963",
              "version_major": 2,
              "version_minor": 0
            },
            "text/plain": [
              "0it [00:00, ?it/s]"
            ]
          },
          "metadata": {},
          "output_type": "display_data"
        },
        {
          "name": "stdout",
          "output_type": "stream",
          "text": [
            "Epoch: 59, Training Loss: 0.517\n",
            "Epoch: 59, Validation Loss: 1.027\n"
          ]
        },
        {
          "data": {
            "application/vnd.jupyter.widget-view+json": {
              "model_id": "dc613a2bc5204483ad007bc86f95bd72",
              "version_major": 2,
              "version_minor": 0
            },
            "text/plain": [
              "0it [00:00, ?it/s]"
            ]
          },
          "metadata": {},
          "output_type": "display_data"
        },
        {
          "name": "stdout",
          "output_type": "stream",
          "text": [
            "Epoch: 60, Training Loss: 0.521\n",
            "Epoch: 60, Validation Loss: 0.698\n"
          ]
        },
        {
          "data": {
            "image/png": "[encoded data removed]",
            "text/plain": [
              "<Figure size 432x288 with 1 Axes>"
            ]
          },
          "metadata": {
            "needs_background": "light"
          },
          "output_type": "display_data"
        },
        {
          "name": "stdout",
          "output_type": "stream",
          "text": [
            "Validating...2400.0333333333335\r"
          ]
        },
        {
          "data": {
            "image/png": "[encoded data removed]",
            "text/plain": [
              "<Figure size 432x288 with 2 Axes>"
            ]
          },
          "metadata": {
            "needs_background": "light"
          },
          "output_type": "display_data"
        },
        {
          "name": "stdout",
          "output_type": "stream",
          "text": [
            "                 sky: AP: 0.96, IoU: 0.90\n",
            "                tree: AP: 0.83, IoU: 0.87\n",
            "                road: AP: 0.95, IoU: 0.85\n",
            "               grass: AP: 0.79, IoU: 0.77\n",
            "               water: AP: 0.83, IoU: 0.72\n",
            "            building: AP: 0.87, IoU: 0.73\n",
            "            mountain: AP: 0.08, IoU: 0.04\n",
            "          foreground: AP: 0.72, IoU: 0.75\n",
            "                misc: AP: 0.01, IoU: 0.00\n",
            "                mean: AP: 0.67, IoU: 0.63\n"
          ]
        }
      ],
      "source": [
        "model_resunet = ResNetBackboneUNet().to(device)\n",
        "lr = 0.001\n",
        "optimizer = optim.AdamW(model_resunet.parameters(), lr=lr, weight_decay=0.01)\n",
        "training_loop(model=model_resunet,\n",
        "              optimizer=optimizer,\n",
        "              trainloader=dataloader,\n",
        "              device=device,\n",
        "              criterion=cross_entropy_criterion,\n",
        "              class_weights=class_weights,\n",
        "              valloader=val_dataloader,\n",
        "              epochs=60)\n",
        "\n",
        "preds, gts = validate_model(val_loader=val_dataloader,\n",
        "                            model=model_resunet,\n",
        "                            classes=classes,\n",
        "                            device=device,\n",
        "                            show_matrix=True)"
      ]
    },
    {
      "cell_type": "markdown",
      "metadata": {
        "id": "BD4JrAOxIJva"
      },
      "source": [
        "# Test set\n",
        "\n",
        "Finally we can check evaluation on test set....\n",
        "\n",
        "**PDF: in your pdf report the results of your best model (this should be based on a pretrained model) on the test dataset.**"
      ]
    },
    {
      "cell_type": "code",
      "execution_count": null,
      "metadata": {
        "id": "FNVIpfRaIAwu"
      },
      "outputs": [],
      "source": [
        "test_dataset = SegmentationDataset(split=\"test\", data_dir=DATASET_PATH, transform=False)\n",
        "test_dataloader = data.DataLoader(test_dataset, batch_size=16, shuffle=False, num_workers=2, drop_last=False)"
      ]
    },
    {
      "cell_type": "code",
      "execution_count": null,
      "metadata": {
        "id": "GOZrmpluRr_j",
        "outputId": "d5677766-3ae0-4f99-90f9-d5e69c0928f2"
      },
      "outputs": [
        {
          "name": "stdout",
          "output_type": "stream",
          "text": [
            "Validating...1420.0\r"
          ]
        },
        {
          "data": {
            "image/png": "[encoded data removed]",
            "text/plain": [
              "<Figure size 432x288 with 2 Axes>"
            ]
          },
          "metadata": {
            "needs_background": "light"
          },
          "output_type": "display_data"
        },
        {
          "name": "stdout",
          "output_type": "stream",
          "text": [
            "                 sky: AP: 0.96, IoU: 0.89\n",
            "                tree: AP: 0.79, IoU: 0.80\n",
            "                road: AP: 0.94, IoU: 0.87\n",
            "               grass: AP: 0.54, IoU: 0.54\n",
            "               water: AP: 0.37, IoU: 0.33\n",
            "            building: AP: 0.88, IoU: 0.71\n",
            "            mountain: AP: 0.01, IoU: 0.00\n",
            "          foreground: AP: 0.76, IoU: 0.77\n",
            "                misc: AP: 0.01, IoU: 0.00\n",
            "                mean: AP: 0.58, IoU: 0.55\n"
          ]
        }
      ],
      "source": [
        "preds, gts = validate_model(val_loader=test_dataloader,\n",
        "                            model=model_resunet,\n",
        "                            classes=classes,\n",
        "                            device=device,\n",
        "                            show_matrix=True)"
      ]
    }
  ],
  "metadata": {
    "colab": {
      "collapsed_sections": [],
      "name": "mp4.ipynb",
      "provenance": []
    },
    "kernelspec": {
      "display_name": "Python 3",
      "language": "python",
      "name": "python3"
    },
    "language_info": {
      "codemirror_mode": {
        "name": "ipython",
        "version": 3
      },
      "file_extension": ".py",
      "mimetype": "text/x-python",
      "name": "python",
      "nbconvert_exporter": "python",
      "pygments_lexer": "ipython3",
      "version": "3.9.6"
    }
  },
  "nbformat": 4,
  "nbformat_minor": 0
}